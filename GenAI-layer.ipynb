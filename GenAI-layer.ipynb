{
 "cells": [
  {
   "cell_type": "code",
   "execution_count": 6,
   "metadata": {},
   "outputs": [
    {
     "name": "stdout",
     "output_type": "stream",
     "text": [
      "Requirement already satisfied: mysql-connector-python in c:\\users\\srikprabhu\\appdata\\local\\programs\\python\\python312\\lib\\site-packages (9.1.0)\n",
      "Requirement already satisfied: openai in c:\\users\\srikprabhu\\appdata\\local\\programs\\python\\python312\\lib\\site-packages (1.56.2)\n",
      "Requirement already satisfied: langchain in c:\\users\\srikprabhu\\appdata\\local\\programs\\python\\python312\\lib\\site-packages (0.3.1)\n",
      "Requirement already satisfied: anyio<5,>=3.5.0 in c:\\users\\srikprabhu\\appdata\\local\\programs\\python\\python312\\lib\\site-packages (from openai) (4.4.0)\n",
      "Requirement already satisfied: distro<2,>=1.7.0 in c:\\users\\srikprabhu\\appdata\\local\\programs\\python\\python312\\lib\\site-packages (from openai) (1.9.0)\n",
      "Requirement already satisfied: httpx<1,>=0.23.0 in c:\\users\\srikprabhu\\appdata\\local\\programs\\python\\python312\\lib\\site-packages (from openai) (0.27.2)\n",
      "Requirement already satisfied: jiter<1,>=0.4.0 in c:\\users\\srikprabhu\\appdata\\local\\programs\\python\\python312\\lib\\site-packages (from openai) (0.8.0)\n",
      "Requirement already satisfied: pydantic<3,>=1.9.0 in c:\\users\\srikprabhu\\appdata\\local\\programs\\python\\python312\\lib\\site-packages (from openai) (2.9.2)\n",
      "Requirement already satisfied: sniffio in c:\\users\\srikprabhu\\appdata\\local\\programs\\python\\python312\\lib\\site-packages (from openai) (1.3.1)\n",
      "Requirement already satisfied: tqdm>4 in c:\\users\\srikprabhu\\appdata\\local\\programs\\python\\python312\\lib\\site-packages (from openai) (4.66.5)\n",
      "Requirement already satisfied: typing-extensions<5,>=4.11 in c:\\users\\srikprabhu\\appdata\\local\\programs\\python\\python312\\lib\\site-packages (from openai) (4.12.2)\n",
      "Requirement already satisfied: PyYAML>=5.3 in c:\\users\\srikprabhu\\appdata\\local\\programs\\python\\python312\\lib\\site-packages (from langchain) (6.0.1)\n",
      "Requirement already satisfied: SQLAlchemy<3,>=1.4 in c:\\users\\srikprabhu\\appdata\\local\\programs\\python\\python312\\lib\\site-packages (from langchain) (1.4.54)\n",
      "Requirement already satisfied: aiohttp<4.0.0,>=3.8.3 in c:\\users\\srikprabhu\\appdata\\local\\programs\\python\\python312\\lib\\site-packages (from langchain) (3.10.4)\n",
      "Requirement already satisfied: langchain-core<0.4.0,>=0.3.6 in c:\\users\\srikprabhu\\appdata\\local\\programs\\python\\python312\\lib\\site-packages (from langchain) (0.3.6)\n",
      "Requirement already satisfied: langchain-text-splitters<0.4.0,>=0.3.0 in c:\\users\\srikprabhu\\appdata\\local\\programs\\python\\python312\\lib\\site-packages (from langchain) (0.3.0)\n",
      "Requirement already satisfied: langsmith<0.2.0,>=0.1.17 in c:\\users\\srikprabhu\\appdata\\local\\programs\\python\\python312\\lib\\site-packages (from langchain) (0.1.129)\n",
      "Requirement already satisfied: numpy<2.0.0,>=1.26.0 in c:\\users\\srikprabhu\\appdata\\local\\programs\\python\\python312\\lib\\site-packages (from langchain) (1.26.4)\n",
      "Requirement already satisfied: requests<3,>=2 in c:\\users\\srikprabhu\\appdata\\local\\programs\\python\\python312\\lib\\site-packages (from langchain) (2.32.3)\n",
      "Requirement already satisfied: tenacity!=8.4.0,<9.0.0,>=8.1.0 in c:\\users\\srikprabhu\\appdata\\local\\programs\\python\\python312\\lib\\site-packages (from langchain) (8.5.0)\n",
      "Requirement already satisfied: aiohappyeyeballs>=2.3.0 in c:\\users\\srikprabhu\\appdata\\local\\programs\\python\\python312\\lib\\site-packages (from aiohttp<4.0.0,>=3.8.3->langchain) (2.3.7)\n",
      "Requirement already satisfied: aiosignal>=1.1.2 in c:\\users\\srikprabhu\\appdata\\local\\programs\\python\\python312\\lib\\site-packages (from aiohttp<4.0.0,>=3.8.3->langchain) (1.3.1)\n",
      "Requirement already satisfied: attrs>=17.3.0 in c:\\users\\srikprabhu\\appdata\\local\\programs\\python\\python312\\lib\\site-packages (from aiohttp<4.0.0,>=3.8.3->langchain) (24.2.0)\n",
      "Requirement already satisfied: frozenlist>=1.1.1 in c:\\users\\srikprabhu\\appdata\\local\\programs\\python\\python312\\lib\\site-packages (from aiohttp<4.0.0,>=3.8.3->langchain) (1.4.1)\n",
      "Requirement already satisfied: multidict<7.0,>=4.5 in c:\\users\\srikprabhu\\appdata\\local\\programs\\python\\python312\\lib\\site-packages (from aiohttp<4.0.0,>=3.8.3->langchain) (6.0.5)\n",
      "Requirement already satisfied: yarl<2.0,>=1.0 in c:\\users\\srikprabhu\\appdata\\local\\programs\\python\\python312\\lib\\site-packages (from aiohttp<4.0.0,>=3.8.3->langchain) (1.9.4)\n",
      "Requirement already satisfied: idna>=2.8 in c:\\users\\srikprabhu\\appdata\\local\\programs\\python\\python312\\lib\\site-packages (from anyio<5,>=3.5.0->openai) (3.7)\n",
      "Requirement already satisfied: certifi in c:\\users\\srikprabhu\\appdata\\local\\programs\\python\\python312\\lib\\site-packages (from httpx<1,>=0.23.0->openai) (2024.7.4)\n",
      "Requirement already satisfied: httpcore==1.* in c:\\users\\srikprabhu\\appdata\\local\\programs\\python\\python312\\lib\\site-packages (from httpx<1,>=0.23.0->openai) (1.0.5)\n",
      "Requirement already satisfied: h11<0.15,>=0.13 in c:\\users\\srikprabhu\\appdata\\local\\programs\\python\\python312\\lib\\site-packages (from httpcore==1.*->httpx<1,>=0.23.0->openai) (0.14.0)\n",
      "Requirement already satisfied: jsonpatch<2.0,>=1.33 in c:\\users\\srikprabhu\\appdata\\local\\programs\\python\\python312\\lib\\site-packages (from langchain-core<0.4.0,>=0.3.6->langchain) (1.33)\n",
      "Requirement already satisfied: packaging<25,>=23.2 in c:\\users\\srikprabhu\\appdata\\local\\programs\\python\\python312\\lib\\site-packages (from langchain-core<0.4.0,>=0.3.6->langchain) (24.1)\n",
      "Requirement already satisfied: orjson<4.0.0,>=3.9.14 in c:\\users\\srikprabhu\\appdata\\local\\programs\\python\\python312\\lib\\site-packages (from langsmith<0.2.0,>=0.1.17->langchain) (3.10.7)\n",
      "Requirement already satisfied: annotated-types>=0.6.0 in c:\\users\\srikprabhu\\appdata\\local\\programs\\python\\python312\\lib\\site-packages (from pydantic<3,>=1.9.0->openai) (0.7.0)\n",
      "Requirement already satisfied: pydantic-core==2.23.4 in c:\\users\\srikprabhu\\appdata\\local\\programs\\python\\python312\\lib\\site-packages (from pydantic<3,>=1.9.0->openai) (2.23.4)\n",
      "Requirement already satisfied: charset-normalizer<4,>=2 in c:\\users\\srikprabhu\\appdata\\local\\programs\\python\\python312\\lib\\site-packages (from requests<3,>=2->langchain) (3.3.2)\n",
      "Requirement already satisfied: urllib3<3,>=1.21.1 in c:\\users\\srikprabhu\\appdata\\local\\programs\\python\\python312\\lib\\site-packages (from requests<3,>=2->langchain) (2.3.0)\n",
      "Requirement already satisfied: greenlet!=0.4.17 in c:\\users\\srikprabhu\\appdata\\local\\programs\\python\\python312\\lib\\site-packages (from SQLAlchemy<3,>=1.4->langchain) (3.0.3)\n",
      "Requirement already satisfied: colorama in c:\\users\\srikprabhu\\appdata\\local\\programs\\python\\python312\\lib\\site-packages (from tqdm>4->openai) (0.4.6)\n",
      "Requirement already satisfied: jsonpointer>=1.9 in c:\\users\\srikprabhu\\appdata\\local\\programs\\python\\python312\\lib\\site-packages (from jsonpatch<2.0,>=1.33->langchain-core<0.4.0,>=0.3.6->langchain) (3.0.0)\n"
     ]
    }
   ],
   "source": [
    "# First Cell: Install required libraries (if not already installed)\n",
    "!pip install mysql-connector-python openai langchain\n"
   ]
  },
  {
   "cell_type": "code",
   "execution_count": 7,
   "metadata": {},
   "outputs": [],
   "source": [
    "# Second Cell: Import required libraries\n",
    "import mysql.connector\n",
    "from openai import OpenAI\n",
    "import openai\n",
    "from langchain.chains import LLMChain\n",
    "from langchain.prompts import PromptTemplate\n"
   ]
  },
  {
   "cell_type": "code",
   "execution_count": 8,
   "metadata": {},
   "outputs": [],
   "source": [
    "# Third Cell: Connect to MySQL Database\n",
    "def get_data_from_mysql(query):\n",
    "    \"\"\"\n",
    "    Connects to MySQL database and executes a query.\n",
    "    Returns the result of the query.\n",
    "    \"\"\"\n",
    "    conn = mysql.connector.connect(\n",
    "        host=\"localhost\",  # Replace with your MySQL host (localhost is default)\n",
    "        user=\"your_user\",  # Replace with your MySQL username\n",
    "        password=\"your_password\",  # Replace with your MySQL password\n",
    "        database=\"sample_db\"  # Replace with your database name\n",
    "    )\n",
    "    cursor = conn.cursor(dictionary=True)\n",
    "    cursor.execute(query)\n",
    "    result = cursor.fetchall()\n",
    "    conn.close()\n",
    "    return result\n"
   ]
  },
  {
   "cell_type": "code",
   "execution_count": 9,
   "metadata": {},
   "outputs": [],
   "source": [
    "# Fourth Cell: Set up OpenAI API Key (or any other LLM model like Ollama)\n",
    "openai.api_key = \"YOUR_OPENAI_API_KEY\"  # Replace with your OpenAI API Key\n"
   ]
  },
  {
   "cell_type": "code",
   "execution_count": 10,
   "metadata": {},
   "outputs": [],
   "source": [
    "# Fifth Cell: Define Prompt Template for LangChain\n",
    "prompt_template = \"\"\"\n",
    "You are a helpful assistant. Based on the following query, first generate an appropriate SQL query to extract relevant data from the database, then return the answer in natural language as if you're speaking to a person.\n",
    "Query: {query}\n",
    "\"\"\"\n",
    "prompt = PromptTemplate(template=prompt_template, input_variables=[\"query\"])\n"
   ]
  },
  {
   "cell_type": "code",
   "execution_count": 11,
   "metadata": {},
   "outputs": [
    {
     "ename": "TypeError",
     "evalue": "OpenAI.__init__() got an unexpected keyword argument 'model'",
     "output_type": "error",
     "traceback": [
      "\u001b[1;31m---------------------------------------------------------------------------\u001b[0m",
      "\u001b[1;31mTypeError\u001b[0m                                 Traceback (most recent call last)",
      "Cell \u001b[1;32mIn[11], line 2\u001b[0m\n\u001b[0;32m      1\u001b[0m \u001b[38;5;66;03m# Sixth Cell: Initialize the LLM (Large Language Model) for Query Processing\u001b[39;00m\n\u001b[1;32m----> 2\u001b[0m llm \u001b[38;5;241m=\u001b[39m \u001b[43mOpenAI\u001b[49m\u001b[43m(\u001b[49m\u001b[43mmodel\u001b[49m\u001b[38;5;241;43m=\u001b[39;49m\u001b[38;5;124;43m\"\u001b[39;49m\u001b[38;5;124;43mtext-davinci-003\u001b[39;49m\u001b[38;5;124;43m\"\u001b[39;49m\u001b[43m)\u001b[49m  \u001b[38;5;66;03m# Use \"gpt-3.5-turbo\" or another model as per your needs\u001b[39;00m\n",
      "\u001b[1;31mTypeError\u001b[0m: OpenAI.__init__() got an unexpected keyword argument 'model'"
     ]
    }
   ],
   "source": [
    "# Sixth Cell: Initialize the LLM (Large Language Model) for Query Processing\n",
    "llm = OpenAI(model=\"text-davinci-003\")  # Use \"gpt-3.5-turbo\" or another model as per your needs\n"
   ]
  },
  {
   "cell_type": "code",
   "execution_count": null,
   "metadata": {},
   "outputs": [],
   "source": [
    "# Seventh Cell: Create LangChain to Process Queries\n",
    "chain = LLMChain(llm=llm, prompt=prompt)\n"
   ]
  },
  {
   "cell_type": "code",
   "execution_count": null,
   "metadata": {},
   "outputs": [],
   "source": [
    "# Eighth Cell: Function to Process Natural Language Queries\n",
    "def process_query(natural_query):\n",
    "    \"\"\"\n",
    "    Takes a natural language query, generates the corresponding SQL query,\n",
    "    fetches the data from the MySQL database, and then returns the answer in natural language.\n",
    "    \"\"\"\n",
    "    # Generate the SQL query from the natural query using LangChain\n",
    "    sql_query = chain.run(natural_query)\n",
    "    print(f\"Generated SQL Query: {sql_query}\")\n",
    "    \n",
    "    # Now fetch the data from MySQL using the generated SQL\n",
    "    data = get_data_from_mysql(sql_query)\n",
    "    \n",
    "    # Translate the result back into natural language for the user\n",
    "    if not data:\n",
    "        return \"I couldn't find any information related to your query.\"\n",
    "    \n",
    "    # Formatting data as a natural language response\n",
    "    if len(data) == 1:\n",
    "        # If only one result is returned\n",
    "        return f\"The answer to your query is: {data[0]}\"\n",
    "    else:\n",
    "        # If multiple rows are returned, summarize the information\n",
    "        response = \"Here is the information I found:\\n\"\n",
    "        for row in data:\n",
    "            response += str(row) + \"\\n\"\n",
    "        return response\n"
   ]
  },
  {
   "cell_type": "code",
   "execution_count": null,
   "metadata": {},
   "outputs": [],
   "source": [
    "# Ninth Cell: Example MySQL Data (Run this once if you need sample data in MySQL)\n",
    "def setup_mysql_data():\n",
    "    \"\"\"\n",
    "    This function sets up sample data in MySQL if needed.\n",
    "    Run this once to populate the database.\n",
    "    \"\"\"\n",
    "    conn = mysql.connector.connect(\n",
    "        host=\"localhost\",\n",
    "        user=\"your_user\",\n",
    "        password=\"your_password\",\n",
    "        database=\"sample_db\"\n",
    "    )\n",
    "    cursor = conn.cursor()\n",
    "    \n",
    "    # Create a sample table if it doesn't exist\n",
    "    cursor.execute(\"\"\"\n",
    "    CREATE TABLE IF NOT EXISTS customers (\n",
    "        id INT AUTO_INCREMENT PRIMARY KEY,\n",
    "        name VARCHAR(255),\n",
    "        age INT,\n",
    "        city VARCHAR(255)\n",
    "    );\n",
    "    \"\"\")\n",
    "    \n",
    "    # Insert sample data into the table\n",
    "    cursor.execute(\"INSERT IGNORE INTO customers (name, age, city) VALUES ('Alice', 30, 'New York');\")\n",
    "    cursor.execute(\"INSERT IGNORE INTO customers (name, age, city) VALUES ('Bob', 25, 'San Francisco');\")\n",
    "    \n",
    "    conn.commit()\n",
    "    conn.close()\n",
    "\n",
    "# Uncomment to set up data (Run only once)\n",
    "# setup_mysql_data()\n",
    "# Ninth Cell: Example MySQL Data (Run this once if you need sample data in MySQL)\n",
    "def setup_mysql_data():\n",
    "    \"\"\"\n",
    "    This function sets up sample data in MySQL if needed.\n",
    "    Run this once to populate the database.\n",
    "    \"\"\"\n",
    "    conn = mysql.connector.connect(\n",
    "        host=\"localhost\",\n",
    "        user=\"your_user\",\n",
    "        password=\"your_password\",\n",
    "        database=\"sample_db\"\n",
    "    )\n",
    "    cursor = conn.cursor()\n",
    "    \n",
    "    # Create a sample table if it doesn't exist\n",
    "    cursor.execute(\"\"\"\n",
    "    CREATE TABLE IF NOT EXISTS customers (\n",
    "        id INT AUTO_INCREMENT PRIMARY KEY,\n",
    "        name VARCHAR(255),\n",
    "        age INT,\n",
    "        city VARCHAR(255)\n",
    "    );\n",
    "    \"\"\")\n",
    "    \n",
    "    # Insert sample data into the table\n",
    "    cursor.execute(\"INSERT IGNORE INTO customers (name, age, city) VALUES ('Alice', 30, 'New York');\")\n",
    "    cursor.execute(\"INSERT IGNORE INTO customers (name, age, city) VALUES ('Bob', 25, 'San Francisco');\")\n",
    "    \n",
    "    conn.commit()\n",
    "    conn.close()\n",
    "\n",
    "# Uncomment to set up data (Run only once)\n",
    "# setup_mysql_data()\n"
   ]
  },
  {
   "cell_type": "code",
   "execution_count": null,
   "metadata": {},
   "outputs": [],
   "source": [
    "# Tenth Cell: Example Query - Process Natural Language to SQL and Get Answer\n",
    "query = \"What is the age of Alice?\"\n",
    "answer = process_query(query)\n",
    "print(f\"Answer: {answer}\")\n"
   ]
  }
 ],
 "metadata": {
  "kernelspec": {
   "display_name": "Python 3",
   "language": "python",
   "name": "python3"
  },
  "language_info": {
   "codemirror_mode": {
    "name": "ipython",
    "version": 3
   },
   "file_extension": ".py",
   "mimetype": "text/x-python",
   "name": "python",
   "nbconvert_exporter": "python",
   "pygments_lexer": "ipython3",
   "version": "3.12.4"
  }
 },
 "nbformat": 4,
 "nbformat_minor": 2
}
