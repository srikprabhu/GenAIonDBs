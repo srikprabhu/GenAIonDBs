{
 "cells": [
  {
   "cell_type": "code",
   "execution_count": 2,
   "metadata": {},
   "outputs": [],
   "source": [
    "import json\n",
    "import pandas as pd\n",
    "from master_nl2sql import *\n",
    "from helper import extract_json_content"
   ]
  },
  {
   "cell_type": "code",
   "execution_count": 3,
   "metadata": {},
   "outputs": [],
   "source": [
    "df = pd.read_csv('Loan.csv')"
   ]
  },
  {
   "cell_type": "code",
   "execution_count": 4,
   "metadata": {},
   "outputs": [
    {
     "data": {
      "text/html": [
       "<div>\n",
       "<style scoped>\n",
       "    .dataframe tbody tr th:only-of-type {\n",
       "        vertical-align: middle;\n",
       "    }\n",
       "\n",
       "    .dataframe tbody tr th {\n",
       "        vertical-align: top;\n",
       "    }\n",
       "\n",
       "    .dataframe thead th {\n",
       "        text-align: right;\n",
       "    }\n",
       "</style>\n",
       "<table border=\"1\" class=\"dataframe\">\n",
       "  <thead>\n",
       "    <tr style=\"text-align: right;\">\n",
       "      <th></th>\n",
       "      <th>Loan_ID</th>\n",
       "      <th>Loan_Amount</th>\n",
       "      <th>Credit_Score</th>\n",
       "      <th>Income</th>\n",
       "      <th>Employment_Type</th>\n",
       "      <th>Loan_Term</th>\n",
       "      <th>Past_Defaults</th>\n",
       "      <th>Loan_Status</th>\n",
       "    </tr>\n",
       "  </thead>\n",
       "  <tbody>\n",
       "    <tr>\n",
       "      <th>0</th>\n",
       "      <td>1</td>\n",
       "      <td>200000</td>\n",
       "      <td>750</td>\n",
       "      <td>40000</td>\n",
       "      <td>Salaried</td>\n",
       "      <td>10</td>\n",
       "      <td>0</td>\n",
       "      <td>1</td>\n",
       "    </tr>\n",
       "    <tr>\n",
       "      <th>1</th>\n",
       "      <td>2</td>\n",
       "      <td>500000</td>\n",
       "      <td>680</td>\n",
       "      <td>60000</td>\n",
       "      <td>Self-employed</td>\n",
       "      <td>15</td>\n",
       "      <td>1</td>\n",
       "      <td>0</td>\n",
       "    </tr>\n",
       "    <tr>\n",
       "      <th>2</th>\n",
       "      <td>3</td>\n",
       "      <td>250000</td>\n",
       "      <td>720</td>\n",
       "      <td>45000</td>\n",
       "      <td>Salaried</td>\n",
       "      <td>10</td>\n",
       "      <td>0</td>\n",
       "      <td>1</td>\n",
       "    </tr>\n",
       "    <tr>\n",
       "      <th>3</th>\n",
       "      <td>4</td>\n",
       "      <td>300000</td>\n",
       "      <td>650</td>\n",
       "      <td>30000</td>\n",
       "      <td>Salaried</td>\n",
       "      <td>20</td>\n",
       "      <td>1</td>\n",
       "      <td>0</td>\n",
       "    </tr>\n",
       "    <tr>\n",
       "      <th>4</th>\n",
       "      <td>5</td>\n",
       "      <td>100000</td>\n",
       "      <td>600</td>\n",
       "      <td>25000</td>\n",
       "      <td>Self-employed</td>\n",
       "      <td>5</td>\n",
       "      <td>2</td>\n",
       "      <td>0</td>\n",
       "    </tr>\n",
       "  </tbody>\n",
       "</table>\n",
       "</div>"
      ],
      "text/plain": [
       "   Loan_ID  Loan_Amount  Credit_Score  Income Employment_Type  Loan_Term  \\\n",
       "0        1       200000           750   40000        Salaried         10   \n",
       "1        2       500000           680   60000   Self-employed         15   \n",
       "2        3       250000           720   45000        Salaried         10   \n",
       "3        4       300000           650   30000        Salaried         20   \n",
       "4        5       100000           600   25000   Self-employed          5   \n",
       "\n",
       "   Past_Defaults  Loan_Status  \n",
       "0              0            1  \n",
       "1              1            0  \n",
       "2              0            1  \n",
       "3              1            0  \n",
       "4              2            0  "
      ]
     },
     "execution_count": 4,
     "metadata": {},
     "output_type": "execute_result"
    }
   ],
   "source": [
    "df.head()"
   ]
  },
  {
   "cell_type": "code",
   "execution_count": 5,
   "metadata": {},
   "outputs": [
    {
     "data": {
      "text/plain": [
       "Index(['Loan_ID', 'Loan_Amount', 'Credit_Score', 'Income', 'Employment_Type',\n",
       "       'Loan_Term', 'Past_Defaults', 'Loan_Status'],\n",
       "      dtype='object')"
      ]
     },
     "execution_count": 5,
     "metadata": {},
     "output_type": "execute_result"
    }
   ],
   "source": [
    "df.columns"
   ]
  },
  {
   "cell_type": "code",
   "execution_count": 6,
   "metadata": {},
   "outputs": [
    {
     "name": "stdout",
     "output_type": "stream",
     "text": [
      "<class 'pandas.core.frame.DataFrame'>\n",
      "RangeIndex: 200 entries, 0 to 199\n",
      "Data columns (total 8 columns):\n",
      " #   Column           Non-Null Count  Dtype \n",
      "---  ------           --------------  ----- \n",
      " 0   Loan_ID          200 non-null    int64 \n",
      " 1   Loan_Amount      200 non-null    int64 \n",
      " 2   Credit_Score     200 non-null    int64 \n",
      " 3   Income           200 non-null    int64 \n",
      " 4   Employment_Type  200 non-null    object\n",
      " 5   Loan_Term        200 non-null    int64 \n",
      " 6   Past_Defaults    200 non-null    int64 \n",
      " 7   Loan_Status      200 non-null    int64 \n",
      "dtypes: int64(7), object(1)\n",
      "memory usage: 12.6+ KB\n"
     ]
    }
   ],
   "source": [
    "df.info()"
   ]
  },
  {
   "cell_type": "code",
   "execution_count": 7,
   "metadata": {},
   "outputs": [
    {
     "data": {
      "text/html": [
       "<div>\n",
       "<style scoped>\n",
       "    .dataframe tbody tr th:only-of-type {\n",
       "        vertical-align: middle;\n",
       "    }\n",
       "\n",
       "    .dataframe tbody tr th {\n",
       "        vertical-align: top;\n",
       "    }\n",
       "\n",
       "    .dataframe thead th {\n",
       "        text-align: right;\n",
       "    }\n",
       "</style>\n",
       "<table border=\"1\" class=\"dataframe\">\n",
       "  <thead>\n",
       "    <tr style=\"text-align: right;\">\n",
       "      <th></th>\n",
       "      <th>Loan_ID</th>\n",
       "      <th>Loan_Amount</th>\n",
       "      <th>Credit_Score</th>\n",
       "      <th>Income</th>\n",
       "      <th>Loan_Term</th>\n",
       "      <th>Past_Defaults</th>\n",
       "      <th>Loan_Status</th>\n",
       "    </tr>\n",
       "  </thead>\n",
       "  <tbody>\n",
       "    <tr>\n",
       "      <th>count</th>\n",
       "      <td>200.000000</td>\n",
       "      <td>200.000000</td>\n",
       "      <td>200.000000</td>\n",
       "      <td>200.00000</td>\n",
       "      <td>200.000000</td>\n",
       "      <td>200.000000</td>\n",
       "      <td>200.00000</td>\n",
       "    </tr>\n",
       "    <tr>\n",
       "      <th>mean</th>\n",
       "      <td>100.500000</td>\n",
       "      <td>258900.000000</td>\n",
       "      <td>691.850000</td>\n",
       "      <td>53575.00000</td>\n",
       "      <td>13.460000</td>\n",
       "      <td>0.250000</td>\n",
       "      <td>0.79000</td>\n",
       "    </tr>\n",
       "    <tr>\n",
       "      <th>std</th>\n",
       "      <td>57.879185</td>\n",
       "      <td>83724.782448</td>\n",
       "      <td>29.992922</td>\n",
       "      <td>13068.98492</td>\n",
       "      <td>5.309364</td>\n",
       "      <td>0.518502</td>\n",
       "      <td>0.40833</td>\n",
       "    </tr>\n",
       "    <tr>\n",
       "      <th>min</th>\n",
       "      <td>1.000000</td>\n",
       "      <td>100000.000000</td>\n",
       "      <td>600.000000</td>\n",
       "      <td>25000.00000</td>\n",
       "      <td>5.000000</td>\n",
       "      <td>0.000000</td>\n",
       "      <td>0.00000</td>\n",
       "    </tr>\n",
       "    <tr>\n",
       "      <th>25%</th>\n",
       "      <td>50.750000</td>\n",
       "      <td>200000.000000</td>\n",
       "      <td>677.500000</td>\n",
       "      <td>45000.00000</td>\n",
       "      <td>10.000000</td>\n",
       "      <td>0.000000</td>\n",
       "      <td>1.00000</td>\n",
       "    </tr>\n",
       "    <tr>\n",
       "      <th>50%</th>\n",
       "      <td>100.500000</td>\n",
       "      <td>250000.000000</td>\n",
       "      <td>690.000000</td>\n",
       "      <td>55000.00000</td>\n",
       "      <td>15.000000</td>\n",
       "      <td>0.000000</td>\n",
       "      <td>1.00000</td>\n",
       "    </tr>\n",
       "    <tr>\n",
       "      <th>75%</th>\n",
       "      <td>150.250000</td>\n",
       "      <td>300000.000000</td>\n",
       "      <td>710.000000</td>\n",
       "      <td>60000.00000</td>\n",
       "      <td>20.000000</td>\n",
       "      <td>0.000000</td>\n",
       "      <td>1.00000</td>\n",
       "    </tr>\n",
       "    <tr>\n",
       "      <th>max</th>\n",
       "      <td>200.000000</td>\n",
       "      <td>500000.000000</td>\n",
       "      <td>780.000000</td>\n",
       "      <td>90000.00000</td>\n",
       "      <td>25.000000</td>\n",
       "      <td>2.000000</td>\n",
       "      <td>1.00000</td>\n",
       "    </tr>\n",
       "  </tbody>\n",
       "</table>\n",
       "</div>"
      ],
      "text/plain": [
       "          Loan_ID    Loan_Amount  Credit_Score       Income   Loan_Term  \\\n",
       "count  200.000000     200.000000    200.000000    200.00000  200.000000   \n",
       "mean   100.500000  258900.000000    691.850000  53575.00000   13.460000   \n",
       "std     57.879185   83724.782448     29.992922  13068.98492    5.309364   \n",
       "min      1.000000  100000.000000    600.000000  25000.00000    5.000000   \n",
       "25%     50.750000  200000.000000    677.500000  45000.00000   10.000000   \n",
       "50%    100.500000  250000.000000    690.000000  55000.00000   15.000000   \n",
       "75%    150.250000  300000.000000    710.000000  60000.00000   20.000000   \n",
       "max    200.000000  500000.000000    780.000000  90000.00000   25.000000   \n",
       "\n",
       "       Past_Defaults  Loan_Status  \n",
       "count     200.000000    200.00000  \n",
       "mean        0.250000      0.79000  \n",
       "std         0.518502      0.40833  \n",
       "min         0.000000      0.00000  \n",
       "25%         0.000000      1.00000  \n",
       "50%         0.000000      1.00000  \n",
       "75%         0.000000      1.00000  \n",
       "max         2.000000      1.00000  "
      ]
     },
     "execution_count": 7,
     "metadata": {},
     "output_type": "execute_result"
    }
   ],
   "source": [
    "df.describe()"
   ]
  },
  {
   "cell_type": "code",
   "execution_count": 8,
   "metadata": {},
   "outputs": [
    {
     "data": {
      "text/plain": [
       "array(['Salaried', 'Self-employed'], dtype=object)"
      ]
     },
     "execution_count": 8,
     "metadata": {},
     "output_type": "execute_result"
    }
   ],
   "source": [
    "df['Employment_Type'].unique()"
   ]
  },
  {
   "cell_type": "code",
   "execution_count": 9,
   "metadata": {},
   "outputs": [],
   "source": [
    "dialect=\"MySQL\" # (MySQL/PostgreSQL/SQLite)\n",
    "\n",
    "# Schema of Tables for LLM context\n",
    "schema_context=\"\"\"\n",
    "CREATE TABLE Employee (\n",
    "    Loan_ID INTEGER PRIMARY KEY,\n",
    "    Loan_Amount INTEGER NOT NULL,\n",
    "    Credit_Score INTEGER NOT NULL,\n",
    "    Income INTEGER NOT NULL,\n",
    "    Employment_Type VARCHAR(30) CHECK (Employment_Type IN ('Salaried', 'Self-employed'))\n",
    "    Loan_Term INTEGER NOT NULL\n",
    "    Past_Defaults INTEGER NOT NULL\n",
    "    Loan_Status TINYINT(1) NOT NULL CHECK (Loan_Status IN (0, 1))\n",
    "\"\"\""
   ]
  },
  {
   "cell_type": "code",
   "execution_count": 10,
   "metadata": {},
   "outputs": [],
   "source": [
    "system_prompt = get_system_prompt(dialect,schema_context)\n",
    "\n",
    "messages=[\n",
    "        {\"role\": \"system\", \"content\": system_prompt},  # System role (optional)\n",
    "        {\"role\": \"user\", \"content\": \"\"}  # User prompt\n",
    "    ]\n",
    "\n",
    "def get_me_sql_query(user_query, print_results=False):\n",
    "    messages[-1][\"content\"]=user_query\n",
    "    response = get_me_llm_response(messages)\n",
    "    if print_results:\n",
    "        print(f\"LLM response : {response}\")\n",
    "    # response = json.loads(response)\n",
    "    response = extract_json_content(response)\n",
    "    response = json.loads(response, strict=False)\n",
    "    if print_results:\n",
    "        print(\"=\"*20,\"\\n\")\n",
    "        print(\"User Query: \",user_query,\"\\n\")\n",
    "        print(\"SQL Query :\\n\",response[\"sql_query\"])\n",
    "        print(\"=\"*20,\"\\n\")\n",
    "    return response"
   ]
  },
  {
   "cell_type": "code",
   "execution_count": 11,
   "metadata": {},
   "outputs": [
    {
     "name": "stdout",
     "output_type": "stream",
     "text": [
      "SELECT COUNT(*) AS Total_Rows FROM Employee\n"
     ]
    }
   ],
   "source": [
    "ans = get_me_sql_query(\"how many data is present in table?\")\n",
    "\n",
    "print(ans[\"sql_query\"])"
   ]
  },
  {
   "cell_type": "code",
   "execution_count": 12,
   "metadata": {},
   "outputs": [
    {
     "name": "stdout",
     "output_type": "stream",
     "text": [
      "SELECT COUNT(*) AS Total_Salaried_Employees FROM Employee WHERE Employment_Type = 'Salaried'\n"
     ]
    }
   ],
   "source": [
    "ans = get_me_sql_query(\"how many employees are salaried?\")\n",
    "print(ans[\"sql_query\"])"
   ]
  },
  {
   "cell_type": "code",
   "execution_count": 13,
   "metadata": {},
   "outputs": [
    {
     "name": "stdout",
     "output_type": "stream",
     "text": [
      "SELECT MIN(Credit_Score) AS Min_Credit_Score, AVG(Credit_Score) AS Avg_Credit_Score, MAX(Credit_Score) AS Max_Credit_Score FROM Employee\n"
     ]
    }
   ],
   "source": [
    "ans = get_me_sql_query(\"Give me minimum, average and maximum credit score\")\n",
    "print(ans[\"sql_query\"])"
   ]
  },
  {
   "cell_type": "code",
   "execution_count": 14,
   "metadata": {},
   "outputs": [
    {
     "name": "stdout",
     "output_type": "stream",
     "text": [
      "WITH AverageCreditScore AS (SELECT AVG(Credit_Score) AS AvgScore FROM Employee) SELECT COUNT(*) AS TotalEmployees FROM Employee, AverageCreditScore WHERE Employee.Credit_Score > AverageCreditScore.AvgScore\n"
     ]
    }
   ],
   "source": [
    "ans = get_me_sql_query(\"Give me total number of employee who's credit score is more than average\")\n",
    "print(ans[\"sql_query\"])"
   ]
  },
  {
   "cell_type": "code",
   "execution_count": null,
   "metadata": {},
   "outputs": [],
   "source": []
  }
 ],
 "metadata": {
  "kernelspec": {
   "display_name": "myenv",
   "language": "python",
   "name": "python3"
  },
  "language_info": {
   "codemirror_mode": {
    "name": "ipython",
    "version": 3
   },
   "file_extension": ".py",
   "mimetype": "text/x-python",
   "name": "python",
   "nbconvert_exporter": "python",
   "pygments_lexer": "ipython3",
   "version": "3.10.11"
  }
 },
 "nbformat": 4,
 "nbformat_minor": 2
}
