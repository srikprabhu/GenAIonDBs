{
 "cells": [
  {
   "cell_type": "markdown",
   "id": "8db4ec33",
   "metadata": {},
   "source": [
    "## SET UP"
   ]
  },
  {
   "cell_type": "code",
   "execution_count": 49,
   "id": "e1b7ed67",
   "metadata": {},
   "outputs": [],
   "source": [
    "#importing necessary libraries\n",
    "import re\n",
    "import ast\n",
    "import time\n",
    "from langchain.agents import Tool\n",
    "from langchain.prompts import PromptTemplate\n",
    "from langchain_community.utilities import SQLDatabase\n",
    "from langchain.chains import LLMChain\n",
    "from langchain_openai import AzureChatOpenAI"
   ]
  },
  {
   "cell_type": "code",
   "execution_count": 50,
   "id": "15243025",
   "metadata": {},
   "outputs": [],
   "source": [
    "openai_api_key = \"EJgyDSQSrrt8FyS9qCoXWExkJsALhSg77kWL9qt6L592RYCyGIw4JQQJ99BBAC77bzfXJ3w3AAABACOG01wO\"\n",
    "azure_endpoint = r\"https://ai-pocs.openai.azure.com/openai/deployments/gpt-4/chat/completions?api-version=2024-08-01-preview\""
   ]
  },
  {
   "cell_type": "code",
   "execution_count": 51,
   "id": "c314f265",
   "metadata": {},
   "outputs": [],
   "source": [
    "llm = AzureChatOpenAI(\n",
    "    azure_deployment=\"gpt-4\",  # or your deployment\n",
    "    api_version=\"2024-08-01-preview\",  # or your api version\n",
    "    api_key=openai_api_key,  \n",
    "    azure_endpoint = azure_endpoint\n",
    ")"
   ]
  },
  {
   "cell_type": "code",
   "execution_count": 52,
   "id": "f753b29c",
   "metadata": {},
   "outputs": [],
   "source": [
    "# Connect to the database (e.g., SQLite)\n",
    "db = SQLDatabase.from_uri(\"sqlite:///Chinook.db\")"
   ]
  },
  {
   "cell_type": "markdown",
   "id": "4dfd2e63",
   "metadata": {},
   "source": [
    "## Table Infos & Structures"
   ]
  },
  {
   "cell_type": "code",
   "execution_count": 5,
   "id": "1560f95a",
   "metadata": {},
   "outputs": [
    {
     "name": "stdout",
     "output_type": "stream",
     "text": [
      "[('sqlite_sequence',), ('Customers',), ('Accounts',), ('Transactions',), ('PaymentsDue',), ('Invoices',)]\n"
     ]
    }
   ],
   "source": [
    "# Query to get all table names\n",
    "query = \"SELECT name FROM sqlite_master WHERE type='table';\"\n",
    "\n",
    "# Execute the query and fetch results\n",
    "table_names = db.run(query)\n",
    "\n",
    "print(table_names)"
   ]
  },
  {
   "cell_type": "code",
   "execution_count": 6,
   "id": "a1459393",
   "metadata": {},
   "outputs": [
    {
     "name": "stdout",
     "output_type": "stream",
     "text": [
      "[(0, 'customer_id', 'INTEGER', 0, None, 1), (1, 'first_name', 'TEXT', 0, None, 0), (2, 'last_name', 'TEXT', 0, None, 0), (3, 'email', 'TEXT', 0, None, 0), (4, 'phone_number', 'TEXT', 0, None, 0), (5, 'address', 'TEXT', 0, None, 0)]\n"
     ]
    }
   ],
   "source": [
    "#Customers table info\n",
    "query=\"PRAGMA table_info(Customers);\"\n",
    "\n",
    "print(db.run(query))"
   ]
  },
  {
   "cell_type": "code",
   "execution_count": 7,
   "id": "c4ed6d88",
   "metadata": {},
   "outputs": [
    {
     "name": "stdout",
     "output_type": "stream",
     "text": [
      "[(1, 'John', 'Doe', 'john.doe@email.com', '123-456-7890', '123 Main St, Cityville'), (2, 'Jane', 'Smith', 'jane.smith@email.com', '234-567-8901', '456 Elm St, Townsville'), (3, 'Mike', 'Johnson', 'mike.johnson@email.com', '345-678-9012', '789 Oak St, Villageburg')]\n"
     ]
    }
   ],
   "source": [
    "# Query to view the structure of the Customers table\n",
    "query = \"Select * from Customers;\"\n",
    "\n",
    "# Execute the query to get table structure\n",
    "table_structure = db.run(query)\n",
    "\n",
    "# Display the table structure\n",
    "print(table_structure)"
   ]
  },
  {
   "cell_type": "code",
   "execution_count": 8,
   "id": "273956ad",
   "metadata": {},
   "outputs": [
    {
     "name": "stdout",
     "output_type": "stream",
     "text": [
      "[(0, 'account_id', 'INTEGER', 0, None, 1), (1, 'customer_id', 'INTEGER', 0, None, 0), (2, 'account_type', 'TEXT', 0, None, 0), (3, 'balance', 'REAL', 0, None, 0)]\n"
     ]
    }
   ],
   "source": [
    "#Accounts Table Info\n",
    "query=\"PRAGMA table_info(Accounts);\"\n",
    "\n",
    "print(db.run(query))"
   ]
  },
  {
   "cell_type": "code",
   "execution_count": 9,
   "id": "4276d8e6",
   "metadata": {},
   "outputs": [
    {
     "name": "stdout",
     "output_type": "stream",
     "text": [
      "[(1, 1, 'Checking', 5000.75), (2, 1, 'Credit', -250.0), (3, 2, 'Savings', 3000.0), (4, 2, 'Checking', 1200.5), (5, 3, 'Savings', 15000.25)]\n"
     ]
    }
   ],
   "source": [
    "# Query to view the structure of the Accounts table\n",
    "query = \"Select * from Accounts;\"\n",
    "\n",
    "# Execute the query to get table structure\n",
    "table_structure = db.run(query)\n",
    "\n",
    "# Display the table structure\n",
    "print(table_structure)"
   ]
  },
  {
   "cell_type": "code",
   "execution_count": 10,
   "id": "1dae1713",
   "metadata": {},
   "outputs": [
    {
     "name": "stdout",
     "output_type": "stream",
     "text": [
      "[(0, 'transaction_id', 'INTEGER', 0, None, 1), (1, 'account_id', 'INTEGER', 0, None, 0), (2, 'transaction_type', 'TEXT', 0, None, 0), (3, 'amount', 'REAL', 0, None, 0), (4, 'transaction_date', 'TEXT', 0, None, 0), (5, 'description', 'TEXT', 0, None, 0)]\n"
     ]
    }
   ],
   "source": [
    "#Transactions table info\n",
    "query=\"PRAGMA table_info(Transactions);\"\n",
    "\n",
    "print(db.run(query))"
   ]
  },
  {
   "cell_type": "code",
   "execution_count": 11,
   "id": "d0666d43",
   "metadata": {},
   "outputs": [
    {
     "name": "stdout",
     "output_type": "stream",
     "text": [
      "[(1, 1, 'Deposit', 1500.0, '2025-02-10', 'Direct deposit from employer'), (2, 1, 'Payment', 200.0, '2025-02-12', 'Payment for utilities'), (3, 2, 'Withdrawal', 100.0, '2025-02-15', 'ATM Withdrawal'), (4, 3, 'Deposit', 2000.0, '2025-02-16', 'Wire transfer'), (5, 4, 'Payment', 50.0, '2025-02-18', 'Credit card payment')]\n"
     ]
    }
   ],
   "source": [
    "# Query to view the structure of the Transactions table\n",
    "query = \"Select * from Transactions;\"\n",
    "\n",
    "# Execute the query to get table structure\n",
    "table_structure_transactions = db.run(query)\n",
    "\n",
    "# Display the table structure\n",
    "print(table_structure_transactions)"
   ]
  },
  {
   "cell_type": "code",
   "execution_count": 12,
   "id": "9da71116",
   "metadata": {},
   "outputs": [
    {
     "name": "stdout",
     "output_type": "stream",
     "text": [
      "[(0, 'payment_id', 'INTEGER', 0, None, 1), (1, 'account_id', 'INTEGER', 0, None, 0), (2, 'payment_amount', 'REAL', 0, None, 0), (3, 'due_date', 'TEXT', 0, None, 0), (4, 'payment_status', 'TEXT', 0, None, 0)]\n"
     ]
    }
   ],
   "source": [
    "#PaymentsDue table info\n",
    "query=\"PRAGMA table_info(PaymentsDue);\"\n",
    "\n",
    "print(db.run(query))"
   ]
  },
  {
   "cell_type": "code",
   "execution_count": 13,
   "id": "ebbf12eb",
   "metadata": {
    "scrolled": true
   },
   "outputs": [
    {
     "name": "stdout",
     "output_type": "stream",
     "text": [
      "[(1, 1, 300.0, '2025-02-20', 'Due'), (2, 1, 50.0, '2025-02-25', 'Paid'), (3, 2, 500.0, '2025-02-22', 'Late'), (4, 3, 150.0, '2025-02-23', 'Due'), (5, 4, 75.0, '2025-02-28', 'Due')]\n"
     ]
    }
   ],
   "source": [
    "# Query to view the structure of the PaymentsDue table\n",
    "query = \"Select * from PaymentsDue;\"\n",
    "\n",
    "# Execute the query to get table structure\n",
    "table_structure_paymentsdue = db.run(query)\n",
    "\n",
    "# Display the table structure\n",
    "print(table_structure_paymentsdue)"
   ]
  },
  {
   "cell_type": "markdown",
   "id": "92cdcfd0",
   "metadata": {},
   "source": [
    "## Table & It's Column Descriptions"
   ]
  },
  {
   "cell_type": "code",
   "execution_count": 54,
   "id": "d3b723a4",
   "metadata": {},
   "outputs": [],
   "source": [
    "table_column_descriptions={\"Customers\":{\"customer_id\":\"Each Customer has different ids\",\n",
    "                                        \"first_name\":\"First name of the customer\",\n",
    "                                        \"last_name\":\"Last Name of the customer\",\n",
    "                                        \"email\":\"email address of the customer\",\n",
    "                                        \"phone_number\":\"phone number of the customer\"},\n",
    "                           \"Accounts\":{\"account_id\":\"Account id of different accounts. Each customer can has multiple accounts\",\n",
    "                                       \"customer_id\":\"Customer Id of the customer which has the account.\",\n",
    "                                       \"account_type\":\"The type of the account Savings, credit etc\",\n",
    "                                       \"balance\":\"balance amount in the account\"},\n",
    "                           \"Transactions\":{\"transaction_id\":\"Each transaction has different transaction ids. Each account can do multiple transactions\",\n",
    "                                           \"account_id\":\"Account ID of the account which made the transaction.\",\n",
    "                                           \"transaction_type\": \"The type of the transaction like payment, withdrawal, deposit etc\",\n",
    "                                           \"amount\":\"amount money of the transaction\",\n",
    "                                           \"transaction_date\":\"The date in which the transaction occured.It's in YYYY-MM-DD format.\",\n",
    "                                           \"description\":\"The description of the transaction on how or for which the transaction's being done\"\n",
    "                                          },\n",
    "                            \"PaymentsDue\":{\"payment_id\":\"Every due payment has a payment id\",\n",
    "                                           \"account_id\":\"The account id of the customer which has the payment due\",\n",
    "                                           \"payment_amount\":\"The money amount that is due for payment\",\n",
    "                                           \"due_date\":\"The due date before which the customer has to make the payment. It's in YYYY-MM-DD format\",\n",
    "                                           \"payment_status\":\"The status of the payment like due, paid, late etc\"\n",
    "                                          }\n",
    "                          }"
   ]
  },
  {
   "cell_type": "markdown",
   "id": "efca9481",
   "metadata": {},
   "source": [
    "## Schema Information"
   ]
  },
  {
   "cell_type": "code",
   "execution_count": 55,
   "id": "f28d1127",
   "metadata": {},
   "outputs": [
    {
     "name": "stdout",
     "output_type": "stream",
     "text": [
      "\n",
      "sqlite_sequence ({'name': ''},{'seq': ''}) \n",
      "Customers ({'customer_id': 'INTEGER'},{'first_name': 'TEXT'},{'last_name': 'TEXT'},{'email': 'TEXT'},{'phone_number': 'TEXT'},{'address': 'TEXT'}) \n",
      "Accounts ({'account_id': 'INTEGER'},{'customer_id': 'INTEGER'},{'account_type': 'TEXT'},{'balance': 'REAL'}) \n",
      "Transactions ({'transaction_id': 'INTEGER'},{'account_id': 'INTEGER'},{'transaction_type': 'TEXT'},{'amount': 'REAL'},{'transaction_date': 'TEXT'},{'description': 'TEXT'}) \n",
      "PaymentsDue ({'payment_id': 'INTEGER'},{'account_id': 'INTEGER'},{'payment_amount': 'REAL'},{'due_date': 'TEXT'},{'payment_status': 'TEXT'}) \n",
      "Invoices ({'InvoiceId': 'INTEGER'},{'AccountId': 'INTEGER'},{'InvoiceDate': 'TEXT'},{'DueDate': 'TEXT'},{'Total': 'REAL'}) \n"
     ]
    }
   ],
   "source": [
    "# Query to get all table names\n",
    "query = \"SELECT name FROM sqlite_master WHERE type='table';\"\n",
    "\n",
    "# Execute the query and fetch results\n",
    "table_names = db.run(query)\n",
    "\n",
    "#Changing the string output to it's literal form.\n",
    "table_names=ast.literal_eval(table_names)\n",
    "\n",
    "#list of table names.\n",
    "table_names=[item[0] for item in table_names]\n",
    "\n",
    "#table, column & type pair\n",
    "all_tab_col=\"\"\n",
    "for table_name in table_names:\n",
    "    query = f\"PRAGMA table_info({table_name});\"\n",
    "    result = db.run(query)\n",
    "    result=ast.literal_eval(result)\n",
    "    \n",
    "    if isinstance(result, list) and len(result) > 0:\n",
    "        # Extract the second element (column name) from each tuple if it's valid\n",
    "        cols= [str({row[1]:row[2]}) for row in result]\n",
    "    tab_col=f\"{table_name} ({','.join(cols)}) \"\n",
    "    all_tab_col=all_tab_col+'\\n'+tab_col\n",
    "    \n",
    "print(all_tab_col)"
   ]
  },
  {
   "cell_type": "markdown",
   "id": "9478b3dc",
   "metadata": {},
   "source": [
    "## Chains & Tools"
   ]
  },
  {
   "cell_type": "code",
   "execution_count": 24,
   "id": "b13b0e71",
   "metadata": {
    "scrolled": true
   },
   "outputs": [],
   "source": [
    "#the template will give a sqllite sql query & the tables used in the sql query as an output.\n",
    "template=\"\"\"\n",
    "You are a SQL expert. Based on the following database schema, generate a SQL query to answer the user's question. You can use multiple tables. Also give the relevant tables that's being used in the SQL query.\n",
    "\n",
    "Database Schema:\n",
    "{all_tab_col}\n",
    "\n",
    "table column details:\n",
    "{table_column_descriptions}\n",
    "\n",
    "User Question: {query}\n",
    "\n",
    "Please give the output in the following JSON format:\n",
    "SQL Query: ONLY give the sql query generated as an output. I want to directly feed it into the sql query.,\n",
    "Relevant Tables: The column used in the SQL Query. Just the Table Names in comma separated format.\n",
    "\n",
    "\"\"\"\n",
    "\n",
    "#prompttemplate takes table,column group, query, column descriptions of all tables.\n",
    "query_generation_prompt = PromptTemplate(\n",
    "    input_variables=[\"query\", \"all_tab_col\",\"table_column_descriptions\"],\n",
    "    template=template\n",
    ")\n",
    "\n",
    "query_generation_chain = LLMChain(prompt=query_generation_prompt, llm=llm)"
   ]
  },
  {
   "cell_type": "code",
   "execution_count": 25,
   "id": "b508fe53",
   "metadata": {},
   "outputs": [],
   "source": [
    "#query generation tool & it's function\n",
    "def query_generation(query, all_tab_col, table_column_descriptions):\n",
    "    return query_generation_chain.run(query=query, all_tab_col=all_tab_col, table_column_descriptions=table_column_descriptions)\n",
    "\n",
    "query_generation_tool=Tool(\n",
    "        name=\"Query Generation\",\n",
    "        func=query_generation,\n",
    "        description=\"Query Generation\"\n",
    "    )"
   ]
  },
  {
   "cell_type": "code",
   "execution_count": 38,
   "id": "e040419b",
   "metadata": {},
   "outputs": [],
   "source": [
    "#the prompt template will give the final response of the query in natural language\n",
    "template=\"\"\"I will give you a query & it's answer which is extracted through a sql query along with the table's info from which it's extracted from & the descriptions of each column of the table. You will have to answer the query in English.\n",
    "\n",
    "Tips:\n",
    "**Please take into account all the informations of all the tables. Also each column of each table has different functions.**\n",
    "Think thrice before giving an answer.\n",
    "Summarize the answer in 150 tokens. Make the answer clear & concise with exact numbers & do not create numbers by yourself.\n",
    "\n",
    "Steps:\n",
    "1.Understand the query.\n",
    "2.Understand the SQL query: columns, tables used & how it's being used. \n",
    "3.Check the table information of each table: which columns being used in the sql query & what's the sql query asking for.\n",
    "4.Understand the response of the sql query which each value represent.\n",
    "\n",
    "Query:{query},\n",
    "\n",
    "Answer:{result},\n",
    "\n",
    "SQL Query:{sql_query},\n",
    "\n",
    "Table Column Descriptions: {table_column_details}\n",
    "\"\"\"\n",
    "\n",
    "NL_response_prompt=PromptTemplate(\n",
    "    input_variables=[\"query\",\"result\",\"sql_query\",\"table_column_details\"],\n",
    "    template=template\n",
    ")\n",
    "\n",
    "NL_response_chain=LLMChain(prompt=NL_response_prompt,llm=llm)"
   ]
  },
  {
   "cell_type": "code",
   "execution_count": 39,
   "id": "71742cc8",
   "metadata": {},
   "outputs": [],
   "source": [
    "def NL_response(query,result,sql_query,table_column_details):\n",
    "    return NL_response_chain.run(query=query,result=result,sql_query=sql_query,table_column_details=table_column_details)\n",
    "\n",
    "NL_response_tool=Tool(\n",
    "    name=\"NL_response\",\n",
    "    func=NL_response,\n",
    "    description=\"Natural Language Response\"\n",
    ")"
   ]
  },
  {
   "cell_type": "markdown",
   "id": "3bb08aac",
   "metadata": {},
   "source": [
    "## Main Function"
   ]
  },
  {
   "cell_type": "code",
   "execution_count": 47,
   "id": "c952f310",
   "metadata": {},
   "outputs": [],
   "source": [
    "def final_response(query,table_column_descriptions,all_tab_col):\n",
    "    \n",
    "    sql_query_table=query_generation_tool.func(query, all_tab_col, table_column_descriptions)\n",
    "    print(sql_query_table)#debugging\n",
    "    \n",
    "    sql_query_table=ast.literal_eval(sql_query_table)\n",
    "    sql_query=sql_query_table[\"SQL Query\"]\n",
    "    \n",
    "    print(sql_query)\n",
    "        \n",
    "    result=db.run(sql_query)\n",
    "    \n",
    "    print(result)#debugging\n",
    "    \n",
    "    selected_tables=sql_query_table[\"Relevant Tables\"].split(',')\n",
    "    selected_tables=[selected_table.strip() for selected_table in selected_tables]\n",
    "    table_column_details=\"\"\n",
    "    for selected_table in selected_tables:\n",
    "        table_column_detail=table_column_descriptions[f\"{selected_table}\"]\n",
    "        table_column_details=table_column_details+f\"\\n{selected_table} : {str(table_column_detail)}\"\n",
    "    \n",
    "    print(table_column_details)#debugging\n",
    "    \n",
    "    response=NL_response_tool.func(query,result,sql_query,table_column_details)\n",
    "    \n",
    "    return response   "
   ]
  },
  {
   "cell_type": "markdown",
   "id": "580521fb",
   "metadata": {},
   "source": [
    "## Response of Different Queries"
   ]
  },
  {
   "cell_type": "code",
   "execution_count": 35,
   "id": "28000ef1",
   "metadata": {},
   "outputs": [
    {
     "name": "stdout",
     "output_type": "stream",
     "text": [
      "Execution Times in seconds: 3.6209194660186768\n",
      "Response:\n",
      " The payment due dates for account number 1 are on February 20, 2025, and February 25, 2025.\n"
     ]
    }
   ],
   "source": [
    "start_time=time.time()\n",
    "query = \"What is the payment due date for account 1?\"\n",
    "response=final_response(query,table_column_descriptions,all_tab_col)\n",
    "end_time=time.time()\n",
    "execution_time=end_time-start_time\n",
    "print(\"Execution Times in seconds:\",execution_time)\n",
    "print(\"Response:\\n\",response)"
   ]
  },
  {
   "cell_type": "code",
   "execution_count": 56,
   "id": "13a94970",
   "metadata": {},
   "outputs": [
    {
     "name": "stdout",
     "output_type": "stream",
     "text": [
      "{\n",
      "  \"SQL Query\": \"SELECT * FROM Transactions WHERE account_id = 1 AND transaction_date = '2025-02-12'\",\n",
      "  \"Relevant Tables\": \"Transactions\"\n",
      "}\n",
      "SELECT * FROM Transactions WHERE account_id = 1 AND transaction_date = '2025-02-12'\n",
      "[(2, 1, 'Payment', 200.0, '2025-02-12', 'Payment for utilities')]\n",
      "\n",
      "Transactions : {'transaction_id': 'Each transaction has different transaction ids. Each account can do multiple transactions', 'account_id': 'Account ID of the account which made the transaction.', 'transaction_type': 'The type of the transaction like payment, withdrawal, deposit etc', 'amount': 'amount money of the transaction', 'transaction_date': \"The date in which the transaction occured.It's in YYYY-MM-DD format.\", 'description': \"The description of the transaction on how or for which the transaction's being done\"}\n",
      "Execution Times in seconds: 5.283830642700195\n",
      "Response:\n",
      " On February 12, 2025, the customer with account ID 1 made a single transaction. This transaction had an ID of 2, was a payment type, involved an amount of $200.00, and was described as \"Payment for utilities.\"\n"
     ]
    }
   ],
   "source": [
    "start_time=time.time()\n",
    "query=\"Give me account id 1 customer's transaction details in 12th February 2025?\"\n",
    "response=final_response(query,table_column_descriptions,all_tab_col)\n",
    "end_time=time.time()\n",
    "execution_time=end_time-start_time\n",
    "print(\"Execution Times in seconds:\",execution_time)\n",
    "print(\"Response:\\n\",response)"
   ]
  },
  {
   "cell_type": "code",
   "execution_count": 34,
   "id": "d19c327f",
   "metadata": {
    "scrolled": true
   },
   "outputs": [
    {
     "name": "stdout",
     "output_type": "stream",
     "text": [
      "Execution Times in seconds: 7.574652910232544\n",
      "Response:\n",
      " Customer ID 1 has made three transactions across two accounts. The first transaction is a deposit of $1500 on February 10, 2025, into their Checking account, described as a direct deposit from their employer, leaving the account with a balance of $5000.75. The second is a payment of $200 on February 12, 2025, for utilities, also from the Checking account, maintaining the same balance of $5000.75. The third transaction is a withdrawal of $100 on February 15, 2025, from their Credit account through an ATM, leaving the balance at -$250.\n"
     ]
    }
   ],
   "source": [
    "start_time=time.time()\n",
    "query = \"Give me customer id 1 customer's all transaction details?\"\n",
    "response=final_response(query,table_column_descriptions,all_tab_col)\n",
    "end_time=time.time()\n",
    "execution_time=end_time-start_time\n",
    "print(\"Execution Times in seconds:\",execution_time)\n",
    "print(\"Response:\\n\",response)"
   ]
  }
 ],
 "metadata": {
  "kernelspec": {
   "display_name": "Python 3 (ipykernel)",
   "language": "python",
   "name": "python3"
  },
  "language_info": {
   "codemirror_mode": {
    "name": "ipython",
    "version": 3
   },
   "file_extension": ".py",
   "mimetype": "text/x-python",
   "name": "python",
   "nbconvert_exporter": "python",
   "pygments_lexer": "ipython3",
   "version": "3.11.5"
  }
 },
 "nbformat": 4,
 "nbformat_minor": 5
}
