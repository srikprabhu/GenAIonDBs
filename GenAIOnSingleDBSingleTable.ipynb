{
 "cells": [
  {
   "cell_type": "code",
   "execution_count": 2,
   "id": "2cc04e6e-bf36-4e96-b584-abc3f9042dda",
   "metadata": {},
   "outputs": [],
   "source": [
    "import mysql.connector\n",
    "import ollama\n",
    "import pymysql"
   ]
  },
  {
   "cell_type": "code",
   "execution_count": 3,
   "id": "9c62fde9-4323-4ea7-9e9c-a2e3dffe1f06",
   "metadata": {},
   "outputs": [
    {
     "name": "stdout",
     "output_type": "stream",
     "text": [
      "Schema {'loan': ['Loan_ID', 'Loan_Amount', 'Credit_Score', 'Income', 'Employment_Type', 'Loan_Term', 'Past_Defaults', 'Loan_Status']}\n"
     ]
    },
    {
     "name": "stdin",
     "output_type": "stream",
     "text": [
      "Enter your query in natural language as per the Schema:  Which Employment type has the highest Credit score ?\n"
     ]
    },
    {
     "name": "stdout",
     "output_type": "stream",
     "text": [
      "******************************************************************************************************\n",
      "\n",
      "Generated SQL Query:\n",
      " \n",
      "SELECT Employment_Type, AVG(Credit_Score) as AverageCreditScore\n",
      "FROM loan\n",
      "GROUP BY Employment_Type\n",
      "ORDER BY AVG(Credit_Score) DESC\n",
      "LIMIT 1;\n",
      "\n",
      "******************************************************************************************************\n",
      "\n",
      "Analysis:\n",
      " Among the loan applicants, those employed as Salaried individuals have the highest average credit score of approximately 699.41.\n"
     ]
    }
   ],
   "source": [
    "def get_db_schema(cursor, db_name):\n",
    "    \"\"\"Retrieve table schema from MySQL database.\"\"\"\n",
    "    cursor.execute(f\"SHOW TABLES FROM {db_name}\")\n",
    "    tables = [table[0] for table in cursor.fetchall()]\n",
    "    schema = {}\n",
    "\n",
    "    for table in tables:\n",
    "        cursor.execute(f\"DESCRIBE {db_name}.{table}\")\n",
    "        schema[table] = [column[0] for column in cursor.fetchall()]  # Get column names\n",
    "    \n",
    "    return schema\n",
    "\n",
    "def generate_sql_query(user_input, schema, model=\"mistral\"):\n",
    "    \"\"\"Use Ollama to generate an SQL query based on user input and schema.\"\"\"\n",
    "    prompt = f\"\"\"\n",
    "    You are an expert SQL Assistant. Generate a MySQL query based on the user's request and the given schema.\n",
    "    \n",
    "    User Request:\n",
    "    {user_input}\n",
    "\n",
    "    Database Schema:\n",
    "    {schema}\n",
    "\n",
    "    Ensure the SQL query is optimized, syntactically correct, and formatted properly for MySQL based on the available column names and column data.\n",
    "\n",
    "    STRICTLY RETURN ONLY THE SQL QUERY FOR EXECUTION AND DON'T HALLUCINATE IF YOU DO NOT GET RESPONSE FROM TABLE !\n",
    "    \"\"\"\n",
    "    \n",
    "    response = ollama.chat(model=model, messages=[{\"role\": \"user\", \"content\": prompt}])\n",
    "    return response[\"message\"][\"content\"].strip()\n",
    "\n",
    "def execute_sql_query(cursor, query):\n",
    "    \"\"\"Execute the generated SQL query and return the results.\"\"\"\n",
    "    try:\n",
    "        cursor.execute(query)\n",
    "        return cursor.fetchall()\n",
    "    except mysql.connector.Error as err:\n",
    "        return f\"SQL Execution Error: {err}\"\n",
    "\n",
    "def analyze_results(user_input, sql_query, results, model=\"mistral\"):\n",
    "    \"\"\"Use Ollama to analyze SQL query results and provide insights in natural language.\"\"\"\n",
    "    prompt = f\"\"\"\n",
    "    You are a data analyst. Analyze the SQL query results and provide a natural language summary.\n",
    "\n",
    "    User Request:\n",
    "    {user_input}\n",
    "\n",
    "    SQL Query:\n",
    "    {sql_query}\n",
    "\n",
    "    Query Results:\n",
    "    {results}\n",
    "\n",
    "    Explain you analysis in one liner.\n",
    "    \"\"\"\n",
    "    # Provide key insights, patterns, and observations in a concise and structured format in brief.\n",
    "    response = ollama.chat(model=model, messages=[{\"role\": \"user\", \"content\": prompt}])\n",
    "    return response[\"message\"][\"content\"].strip()\n",
    "\n",
    "def main():\n",
    "    # Connect to MySQL Database\n",
    "    db_connection = pymysql.connect(\n",
    "        host=\"localhost\",\n",
    "        port=3306,\n",
    "        user=\"root\",\n",
    "        password=\"Ajay@1993\",\n",
    "        database=\"loandb\"\n",
    "    )\n",
    "    cursor = db_connection.cursor()\n",
    "\n",
    "    schema = get_db_schema(cursor, \"loandb\")\n",
    "    # results = execute_sql_query(cursor, sql_query)\n",
    "    \n",
    "    print('Schema', schema)\n",
    "    \n",
    "    user_input = input(\"Enter your query in natural language as per the Schema: \")\n",
    "\n",
    "    sql_query = generate_sql_query(user_input, schema, model=\"mistral\")  # Use \"mistral\" if preferred\n",
    "    \n",
    "    sql_query = sql_query.split(\"```sql\")\n",
    "    sql_query= sql_query[1].split(\"```\")\n",
    "    sql_query= sql_query[0]\n",
    "\n",
    "    print(\"******************************************************************************************************\")\n",
    "    print(\"\\nGenerated SQL Query:\\n\", sql_query)\n",
    "    print(\"******************************************************************************************************\")\n",
    "    \n",
    "    results = execute_sql_query(cursor, sql_query)\n",
    "    # print(\"\\nQuery Results:\\n\", results)\n",
    "\n",
    "    analysis = analyze_results(user_input, sql_query, results, model=\"mistral\")  # Use \"mistral\" if preferred\n",
    "    print(\"\\nAnalysis:\\n\", analysis)\n",
    "\n",
    "    cursor.close()\n",
    "    db_connection.close()\n",
    "\n",
    "if __name__ == \"__main__\":\n",
    "    main()\n"
   ]
  },
  {
   "cell_type": "code",
   "execution_count": 4,
   "id": "4a3b66b1-e52b-456a-96f8-933ae8d17052",
   "metadata": {},
   "outputs": [],
   "source": [
    "# How many active loans are present ?"
   ]
  },
  {
   "cell_type": "code",
   "execution_count": 5,
   "id": "92d0fba7-65a7-43fb-8fe6-deacd73c6161",
   "metadata": {},
   "outputs": [],
   "source": [
    "# Which class type has the highest income and highest loan ?"
   ]
  },
  {
   "cell_type": "code",
   "execution_count": null,
   "id": "4cfc77cf-61bf-4ac7-a6b4-95b4a4f84bd0",
   "metadata": {},
   "outputs": [],
   "source": []
  },
  {
   "cell_type": "code",
   "execution_count": null,
   "id": "a390746c-17c8-4aaf-89ee-37f8f3318f2f",
   "metadata": {},
   "outputs": [],
   "source": []
  },
  {
   "cell_type": "code",
   "execution_count": null,
   "id": "fe551b6e-7663-492e-8f84-946cc5d99558",
   "metadata": {},
   "outputs": [],
   "source": []
  },
  {
   "cell_type": "code",
   "execution_count": null,
   "id": "0674e843-94f8-46c8-9cdd-be9fba961be2",
   "metadata": {},
   "outputs": [],
   "source": []
  },
  {
   "cell_type": "code",
   "execution_count": null,
   "id": "607fbb6f-7ed2-45aa-9d3e-ebb87b41055f",
   "metadata": {},
   "outputs": [],
   "source": []
  },
  {
   "cell_type": "code",
   "execution_count": null,
   "id": "79c7440c-7582-4fac-a74f-31c88e1ef39f",
   "metadata": {},
   "outputs": [],
   "source": []
  },
  {
   "cell_type": "code",
   "execution_count": null,
   "id": "72c9c9e3-32bf-4d07-89f6-50da4f0be626",
   "metadata": {},
   "outputs": [],
   "source": []
  },
  {
   "cell_type": "code",
   "execution_count": null,
   "id": "880f9f30-3eac-4182-8098-995c04dfac5a",
   "metadata": {},
   "outputs": [],
   "source": []
  }
 ],
 "metadata": {
  "kernelspec": {
   "display_name": "Python 3 (ipykernel)",
   "language": "python",
   "name": "python3"
  },
  "language_info": {
   "codemirror_mode": {
    "name": "ipython",
    "version": 3
   },
   "file_extension": ".py",
   "mimetype": "text/x-python",
   "name": "python",
   "nbconvert_exporter": "python",
   "pygments_lexer": "ipython3",
   "version": "3.12.3"
  }
 },
 "nbformat": 4,
 "nbformat_minor": 5
}
