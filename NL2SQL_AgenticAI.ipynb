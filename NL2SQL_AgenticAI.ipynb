{
 "cells": [
  {
   "cell_type": "code",
   "execution_count": null,
   "id": "3382dc53-7f89-4587-810c-322b272d4895",
   "metadata": {},
   "outputs": [],
   "source": [
    "import openai\n",
    "import pymysql\n",
    "import time"
   ]
  },
  {
   "cell_type": "code",
   "execution_count": null,
   "id": "31161fda-10b0-4e9c-9fca-8452f7765fe6",
   "metadata": {},
   "outputs": [],
   "source": [
    "# Set up Azure OpenAI API key and endpoint\n",
    "openai.api_key = \"api_key\"\n",
    "openai.api_base = \"https://ai-pocs.openai.azure.com/openai/deployments/gpt-4/chat/completions?api-version=2024-08-01-preview\""
   ]
  },
  {
   "cell_type": "code",
   "execution_count": null,
   "id": "39f226f1-b053-4f6a-b692-0223741ae2b3",
   "metadata": {},
   "outputs": [],
   "source": [
    "# Function to get a connection to MySQL database\n",
    "def get_db_connection():\n",
    "    connection = pymysql.connect(\n",
    "        host=\"localhost\", \n",
    "        user=\"root\",  \n",
    "        password=\"password\", \n",
    "        database=\"loan_data\"  \n",
    "    )\n",
    "    return connection"
   ]
  },
  {
   "cell_type": "code",
   "execution_count": null,
   "id": "6234f4f3-df1d-4026-a3f3-3ef1a0589629",
   "metadata": {},
   "outputs": [],
   "source": [
    "def get_schema_info(db_connection):\n",
    "    cursor = db_connection.cursor()\n",
    "    cursor.execute(\"SHOW TABLES;\")\n",
    "    tables = cursor.fetchall()\n",
    "    \n",
    "    schema_info = {}\n",
    "\n",
    "    # Loop through each table and get column details\n",
    "    for table in tables:\n",
    "        table_name = table[0]\n",
    "        cursor.execute(f\"DESCRIBE {table_name};\")  # Get columns for each table\n",
    "        columns = cursor.fetchall()\n",
    "        schema_info[table_name] = [column[0] for column in columns]  # Collect column names\n",
    "    \n",
    "    cursor.close()\n",
    "    return schema_info"
   ]
  },
  {
   "cell_type": "code",
   "execution_count": null,
   "id": "d14f791e-066b-4655-b492-6e2c6033d124",
   "metadata": {},
   "outputs": [],
   "source": [
    "# Function to generate SQL query from natural language question\n",
    "def generate_sql_query(schema_info, question):\n",
    "    # Create a prompt for the AI to generate a SQL query\n",
    "    prompt = f\"\"\"\n",
    "    You are a SQL expert. Based on the following database schema, generate a SQL query to answer the user's question.\n",
    "\n",
    "    Database Schema:\n",
    "    \"\"\"\n",
    "    \n",
    "    # Dynamically add the schema information (tables and columns)\n",
    "    for table, columns in schema_info.items():\n",
    "        prompt += f\"\\n{table} (\"\n",
    "        prompt += \", \".join(columns)\n",
    "        prompt += \")\"\n",
    "    \n",
    "    prompt += f\"\\n\\nUser Question: {question}\\n\\nSQL Query:\"\n",
    "    response = openai.Completion.create(\n",
    "        engine=\"gpt-4\", \n",
    "        prompt=prompt,\n",
    "        max_tokens=150,  \n",
    "        temperature=0,  \n",
    "    )\n",
    "    \n",
    "    # Extract the SQL query from the response\n",
    "    sql_query = response.choices[0].text.strip()\n",
    "    return sql_query"
   ]
  },
  {
   "cell_type": "code",
   "execution_count": null,
   "id": "cbda16b1-78dc-4f35-971c-6302fcb9e99d",
   "metadata": {},
   "outputs": [],
   "source": [
    "# Function to run SQL query on the database\n",
    "def run_sql_query(db_connection, query):\n",
    "    cursor = db_connection.cursor()\n",
    "    cursor.execute(query)\n",
    "    result = cursor.fetchall()\n",
    "    cursor.close()\n",
    "    return result"
   ]
  },
  {
   "cell_type": "code",
   "execution_count": null,
   "id": "c7037911-947c-4252-ba81-1cba469f8b32",
   "metadata": {},
   "outputs": [],
   "source": [
    "# Function to process and answer user queries using the Azure OpenAI model\n",
    "def process_query(query):\n",
    "    # Connect to the database\n",
    "    db_connection = get_db_connection()\n",
    "\n",
    "    # Retrieve the schema information from the database\n",
    "    schema_info = get_schema_info(db_connection)\n",
    "\n",
    "    # Measure time for SQL query generation\n",
    "    start_time = time.time()\n",
    "\n",
    "    # Generate SQL query using OpenAI\n",
    "    sql_query = generate_sql_query(schema_info, query)\n",
    "\n",
    "    end_time = time.time()\n",
    "    generation_time = end_time - start_time\n",
    "    print(f\"Time taken to generate SQL query: {generation_time} seconds\")\n",
    "\n",
    "    print(f\"Generated SQL Query: {sql_query}\")\n",
    "\n",
    "    # Execute the generated SQL query on the database\n",
    "    try:\n",
    "        result = run_sql_query(db_connection, sql_query)\n",
    "        return result\n",
    "    except Exception as e:\n",
    "        return f\"Error executing query: {e}\"\n"
   ]
  },
  {
   "cell_type": "code",
   "execution_count": 1,
   "id": "177a1be7-8144-457f-aeb4-180e526e6aaf",
   "metadata": {},
   "outputs": [
    {
     "name": "stdin",
     "output_type": "stream",
     "text": [
      "Please enter your question (or type 'exit' to quit):  How many loans are approved?\n"
     ]
    },
    {
     "ename": "APIRemovedInV1",
     "evalue": "\n\nYou tried to access openai.Completion, but this is no longer supported in openai>=1.0.0 - see the README at https://github.com/openai/openai-python for the API.\n\nYou can run `openai migrate` to automatically upgrade your codebase to use the 1.0.0 interface. \n\nAlternatively, you can pin your installation to the old version, e.g. `pip install openai==0.28`\n\nA detailed migration guide is available here: https://github.com/openai/openai-python/discussions/742\n",
     "output_type": "error",
     "traceback": [
      "\u001b[1;31m---------------------------------------------------------------------------\u001b[0m",
      "\u001b[1;31mAPIRemovedInV1\u001b[0m                            Traceback (most recent call last)",
      "Cell \u001b[1;32mIn[1], line 117\u001b[0m\n\u001b[0;32m    114\u001b[0m         \u001b[38;5;28mprint\u001b[39m(\u001b[38;5;124mf\u001b[39m\u001b[38;5;124m\"\u001b[39m\u001b[38;5;124mAnswer: \u001b[39m\u001b[38;5;132;01m{\u001b[39;00mresult\u001b[38;5;132;01m}\u001b[39;00m\u001b[38;5;124m\"\u001b[39m)\n\u001b[0;32m    116\u001b[0m \u001b[38;5;28;01mif\u001b[39;00m \u001b[38;5;18m__name__\u001b[39m \u001b[38;5;241m==\u001b[39m \u001b[38;5;124m\"\u001b[39m\u001b[38;5;124m__main__\u001b[39m\u001b[38;5;124m\"\u001b[39m:\n\u001b[1;32m--> 117\u001b[0m     \u001b[43mmain\u001b[49m\u001b[43m(\u001b[49m\u001b[43m)\u001b[49m\n",
      "Cell \u001b[1;32mIn[1], line 111\u001b[0m, in \u001b[0;36mmain\u001b[1;34m()\u001b[0m\n\u001b[0;32m    108\u001b[0m     \u001b[38;5;28;01mbreak\u001b[39;00m\n\u001b[0;32m    110\u001b[0m \u001b[38;5;66;03m# Process the query and get the results\u001b[39;00m\n\u001b[1;32m--> 111\u001b[0m result \u001b[38;5;241m=\u001b[39m \u001b[43mprocess_query\u001b[49m\u001b[43m(\u001b[49m\u001b[43mquestion\u001b[49m\u001b[43m)\u001b[49m\n\u001b[0;32m    113\u001b[0m \u001b[38;5;66;03m# Return the result to the user\u001b[39;00m\n\u001b[0;32m    114\u001b[0m \u001b[38;5;28mprint\u001b[39m(\u001b[38;5;124mf\u001b[39m\u001b[38;5;124m\"\u001b[39m\u001b[38;5;124mAnswer: \u001b[39m\u001b[38;5;132;01m{\u001b[39;00mresult\u001b[38;5;132;01m}\u001b[39;00m\u001b[38;5;124m\"\u001b[39m)\n",
      "Cell \u001b[1;32mIn[1], line 86\u001b[0m, in \u001b[0;36mprocess_query\u001b[1;34m(query)\u001b[0m\n\u001b[0;32m     83\u001b[0m start_time \u001b[38;5;241m=\u001b[39m time\u001b[38;5;241m.\u001b[39mtime()\n\u001b[0;32m     85\u001b[0m \u001b[38;5;66;03m# Generate SQL query using OpenAI\u001b[39;00m\n\u001b[1;32m---> 86\u001b[0m sql_query \u001b[38;5;241m=\u001b[39m \u001b[43mgenerate_sql_query\u001b[49m\u001b[43m(\u001b[49m\u001b[43mschema_info\u001b[49m\u001b[43m,\u001b[49m\u001b[43m \u001b[49m\u001b[43mquery\u001b[49m\u001b[43m)\u001b[49m\n\u001b[0;32m     88\u001b[0m end_time \u001b[38;5;241m=\u001b[39m time\u001b[38;5;241m.\u001b[39mtime()\n\u001b[0;32m     89\u001b[0m generation_time \u001b[38;5;241m=\u001b[39m end_time \u001b[38;5;241m-\u001b[39m start_time\n",
      "Cell \u001b[1;32mIn[1], line 55\u001b[0m, in \u001b[0;36mgenerate_sql_query\u001b[1;34m(schema_info, question)\u001b[0m\n\u001b[0;32m     52\u001b[0m prompt \u001b[38;5;241m+\u001b[39m\u001b[38;5;241m=\u001b[39m \u001b[38;5;124mf\u001b[39m\u001b[38;5;124m\"\u001b[39m\u001b[38;5;130;01m\\n\u001b[39;00m\u001b[38;5;130;01m\\n\u001b[39;00m\u001b[38;5;124mUser Question: \u001b[39m\u001b[38;5;132;01m{\u001b[39;00mquestion\u001b[38;5;132;01m}\u001b[39;00m\u001b[38;5;130;01m\\n\u001b[39;00m\u001b[38;5;130;01m\\n\u001b[39;00m\u001b[38;5;124mSQL Query:\u001b[39m\u001b[38;5;124m\"\u001b[39m\n\u001b[0;32m     54\u001b[0m \u001b[38;5;66;03m# Make the API call to generate SQL query using OpenAI (agentic-style approach)\u001b[39;00m\n\u001b[1;32m---> 55\u001b[0m response \u001b[38;5;241m=\u001b[39m \u001b[43mopenai\u001b[49m\u001b[38;5;241;43m.\u001b[39;49m\u001b[43mCompletion\u001b[49m\u001b[38;5;241;43m.\u001b[39;49m\u001b[43mcreate\u001b[49m\u001b[43m(\u001b[49m\n\u001b[0;32m     56\u001b[0m \u001b[43m    \u001b[49m\u001b[43mengine\u001b[49m\u001b[38;5;241;43m=\u001b[39;49m\u001b[38;5;124;43m\"\u001b[39;49m\u001b[38;5;124;43mgpt-4\u001b[39;49m\u001b[38;5;124;43m\"\u001b[39;49m\u001b[43m,\u001b[49m\u001b[43m  \u001b[49m\u001b[38;5;66;43;03m# Use GPT-4 or GPT-3 (adjust if necessary)\u001b[39;49;00m\n\u001b[0;32m     57\u001b[0m \u001b[43m    \u001b[49m\u001b[43mprompt\u001b[49m\u001b[38;5;241;43m=\u001b[39;49m\u001b[43mprompt\u001b[49m\u001b[43m,\u001b[49m\n\u001b[0;32m     58\u001b[0m \u001b[43m    \u001b[49m\u001b[43mmax_tokens\u001b[49m\u001b[38;5;241;43m=\u001b[39;49m\u001b[38;5;241;43m150\u001b[39;49m\u001b[43m,\u001b[49m\u001b[43m  \u001b[49m\u001b[38;5;66;43;03m# Limit the number of tokens for the SQL query\u001b[39;49;00m\n\u001b[0;32m     59\u001b[0m \u001b[43m    \u001b[49m\u001b[43mtemperature\u001b[49m\u001b[38;5;241;43m=\u001b[39;49m\u001b[38;5;241;43m0\u001b[39;49m\u001b[43m,\u001b[49m\u001b[43m  \u001b[49m\u001b[38;5;66;43;03m# Use deterministic response\u001b[39;49;00m\n\u001b[0;32m     60\u001b[0m \u001b[43m\u001b[49m\u001b[43m)\u001b[49m\n\u001b[0;32m     62\u001b[0m \u001b[38;5;66;03m# Extract the SQL query from the response\u001b[39;00m\n\u001b[0;32m     63\u001b[0m sql_query \u001b[38;5;241m=\u001b[39m response\u001b[38;5;241m.\u001b[39mchoices[\u001b[38;5;241m0\u001b[39m]\u001b[38;5;241m.\u001b[39mtext\u001b[38;5;241m.\u001b[39mstrip()\n",
      "File \u001b[1;32m~\\AppData\\Local\\Programs\\Python\\Python312\\Lib\\site-packages\\openai\\lib\\_old_api.py:39\u001b[0m, in \u001b[0;36mAPIRemovedInV1Proxy.__call__\u001b[1;34m(self, *_args, **_kwargs)\u001b[0m\n\u001b[0;32m     38\u001b[0m \u001b[38;5;28;01mdef\u001b[39;00m \u001b[38;5;21m__call__\u001b[39m(\u001b[38;5;28mself\u001b[39m, \u001b[38;5;241m*\u001b[39m_args: Any, \u001b[38;5;241m*\u001b[39m\u001b[38;5;241m*\u001b[39m_kwargs: Any) \u001b[38;5;241m-\u001b[39m\u001b[38;5;241m>\u001b[39m Any:\n\u001b[1;32m---> 39\u001b[0m     \u001b[38;5;28;01mraise\u001b[39;00m APIRemovedInV1(symbol\u001b[38;5;241m=\u001b[39m\u001b[38;5;28mself\u001b[39m\u001b[38;5;241m.\u001b[39m_symbol)\n",
      "\u001b[1;31mAPIRemovedInV1\u001b[0m: \n\nYou tried to access openai.Completion, but this is no longer supported in openai>=1.0.0 - see the README at https://github.com/openai/openai-python for the API.\n\nYou can run `openai migrate` to automatically upgrade your codebase to use the 1.0.0 interface. \n\nAlternatively, you can pin your installation to the old version, e.g. `pip install openai==0.28`\n\nA detailed migration guide is available here: https://github.com/openai/openai-python/discussions/742\n"
     ]
    }
   ],
   "source": [
    "# Main function to interact with the user\n",
    "def main():\n",
    "    while True:\n",
    "        # Take user input as a question in natural language\n",
    "        question = input(\"Please enter your question (or type 'exit' to quit): \")\n",
    "\n",
    "        if question.lower() == 'exit':\n",
    "            break\n",
    "\n",
    "        # Process the query and get the results\n",
    "        result = process_query(question)\n",
    "\n",
    "        # Return the result to the user\n",
    "        print(f\"Answer: {result}\")\n",
    "\n",
    "if __name__ == \"__main__\":\n",
    "    main()\n"
   ]
  },
  {
   "cell_type": "code",
   "execution_count": null,
   "id": "fb9006be-7b10-447b-b37d-e54d28637239",
   "metadata": {},
   "outputs": [],
   "source": []
  }
 ],
 "metadata": {
  "kernelspec": {
   "display_name": "Python 3 (ipykernel)",
   "language": "python",
   "name": "python3"
  },
  "language_info": {
   "codemirror_mode": {
    "name": "ipython",
    "version": 3
   },
   "file_extension": ".py",
   "mimetype": "text/x-python",
   "name": "python",
   "nbconvert_exporter": "python",
   "pygments_lexer": "ipython3",
   "version": "3.12.5"
  }
 },
 "nbformat": 4,
 "nbformat_minor": 5
}
