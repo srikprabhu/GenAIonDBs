{
 "cells": [
  {
   "cell_type": "markdown",
   "id": "8db4ec33",
   "metadata": {},
   "source": [
    "## SET UP"
   ]
  },
  {
   "cell_type": "code",
   "execution_count": 394,
   "id": "e1b7ed67",
   "metadata": {},
   "outputs": [],
   "source": [
    "#importing necessary libraries\n",
    "import re\n",
    "import os\n",
    "import ast\n",
    "from langchain.agents import Tool\n",
    "from langchain.prompts import PromptTemplate\n",
    "from langchain_community.utilities import SQLDatabase\n",
    "from langchain.chains import LLMChain\n",
    "from langchain_google_genai import ChatGoogleGenerativeAI"
   ]
  },
  {
   "cell_type": "code",
   "execution_count": 395,
   "id": "24915d4a",
   "metadata": {},
   "outputs": [],
   "source": [
    "os.environ['GOOGLE_API_KEY'] = google_api_key"#confidential generated from Samapti's ID"
   ]
  },
  {
   "cell_type": "code",
   "execution_count": 396,
   "id": "9a034b53",
   "metadata": {},
   "outputs": [],
   "source": [
    "# Define the LLM for Gemini model (adjusted for the specific Gemini API you're using)\n",
    "llm_model = ChatGoogleGenerativeAI(model=\"gemini-1.5-flash\",temperature=0.1)\n",
    "\n",
    "# Connect to the database (e.g., SQLite)\n",
    "db = SQLDatabase.from_uri(\"sqlite:///Chinook.db\")"
   ]
  },
  {
   "cell_type": "markdown",
   "id": "873c7b97",
   "metadata": {},
   "source": [
    "## Table Infos & Structures"
   ]
  },
  {
   "cell_type": "code",
   "execution_count": 397,
   "id": "42c86d22",
   "metadata": {},
   "outputs": [
    {
     "name": "stdout",
     "output_type": "stream",
     "text": [
      "[('sqlite_sequence',), ('Customers',), ('Accounts',), ('Transactions',), ('PaymentsDue',), ('Invoices',)]\n"
     ]
    }
   ],
   "source": [
    "# Query to get all table names\n",
    "query = \"SELECT name FROM sqlite_master WHERE type='table';\"\n",
    "\n",
    "# Execute the query and fetch results\n",
    "table_names = db.run(query)\n",
    "\n",
    "print(table_names)"
   ]
  },
  {
   "cell_type": "code",
   "execution_count": 398,
   "id": "a06da985",
   "metadata": {},
   "outputs": [
    {
     "name": "stdout",
     "output_type": "stream",
     "text": [
      "[(0, 'customer_id', 'INTEGER', 0, None, 1), (1, 'first_name', 'TEXT', 0, None, 0), (2, 'last_name', 'TEXT', 0, None, 0), (3, 'email', 'TEXT', 0, None, 0), (4, 'phone_number', 'TEXT', 0, None, 0), (5, 'address', 'TEXT', 0, None, 0)]\n"
     ]
    }
   ],
   "source": [
    "#Customers table info\n",
    "query=\"PRAGMA table_info(Customers);\"\n",
    "\n",
    "print(db.run(query))"
   ]
  },
  {
   "cell_type": "code",
   "execution_count": 399,
   "id": "9fb3dc30",
   "metadata": {},
   "outputs": [
    {
     "name": "stdout",
     "output_type": "stream",
     "text": [
      "[(1, 'John', 'Doe', 'john.doe@email.com', '123-456-7890', '123 Main St, Cityville'), (2, 'Jane', 'Smith', 'jane.smith@email.com', '234-567-8901', '456 Elm St, Townsville'), (3, 'Mike', 'Johnson', 'mike.johnson@email.com', '345-678-9012', '789 Oak St, Villageburg')]\n"
     ]
    }
   ],
   "source": [
    "# Query to view the structure of the Customers table\n",
    "query = \"Select * from Customers;\"\n",
    "\n",
    "# Execute the query to get table structure\n",
    "table_structure = db.run(query)\n",
    "\n",
    "# Display the table structure\n",
    "print(table_structure)"
   ]
  },
  {
   "cell_type": "code",
   "execution_count": 400,
   "id": "33974011",
   "metadata": {},
   "outputs": [
    {
     "name": "stdout",
     "output_type": "stream",
     "text": [
      "[(0, 'account_id', 'INTEGER', 0, None, 1), (1, 'customer_id', 'INTEGER', 0, None, 0), (2, 'account_type', 'TEXT', 0, None, 0), (3, 'balance', 'REAL', 0, None, 0)]\n"
     ]
    }
   ],
   "source": [
    "#Accounts Table Info\n",
    "query=\"PRAGMA table_info(Accounts);\"\n",
    "\n",
    "print(db.run(query))"
   ]
  },
  {
   "cell_type": "code",
   "execution_count": 401,
   "id": "f2b342eb",
   "metadata": {},
   "outputs": [
    {
     "name": "stdout",
     "output_type": "stream",
     "text": [
      "[(1, 1, 'Checking', 5000.75), (2, 1, 'Credit', -250.0), (3, 2, 'Savings', 3000.0), (4, 2, 'Checking', 1200.5), (5, 3, 'Savings', 15000.25)]\n"
     ]
    }
   ],
   "source": [
    "# Query to view the structure of the Accounts table\n",
    "query = \"Select * from Accounts;\"\n",
    "\n",
    "# Execute the query to get table structure\n",
    "table_structure = db.run(query)\n",
    "\n",
    "# Display the table structure\n",
    "print(table_structure)"
   ]
  },
  {
   "cell_type": "code",
   "execution_count": 402,
   "id": "6f47b311",
   "metadata": {},
   "outputs": [
    {
     "name": "stdout",
     "output_type": "stream",
     "text": [
      "[(0, 'transaction_id', 'INTEGER', 0, None, 1), (1, 'account_id', 'INTEGER', 0, None, 0), (2, 'transaction_type', 'TEXT', 0, None, 0), (3, 'amount', 'REAL', 0, None, 0), (4, 'transaction_date', 'TEXT', 0, None, 0), (5, 'description', 'TEXT', 0, None, 0)]\n"
     ]
    }
   ],
   "source": [
    "#Transactions table info\n",
    "query=\"PRAGMA table_info(Transactions);\"\n",
    "\n",
    "print(db.run(query))"
   ]
  },
  {
   "cell_type": "code",
   "execution_count": 403,
   "id": "d0794143",
   "metadata": {},
   "outputs": [
    {
     "name": "stdout",
     "output_type": "stream",
     "text": [
      "[(1, 1, 'Deposit', 1500.0, '2025-02-10', 'Direct deposit from employer'), (2, 1, 'Payment', 200.0, '2025-02-12', 'Payment for utilities'), (3, 2, 'Withdrawal', 100.0, '2025-02-15', 'ATM Withdrawal'), (4, 3, 'Deposit', 2000.0, '2025-02-16', 'Wire transfer'), (5, 4, 'Payment', 50.0, '2025-02-18', 'Credit card payment')]\n"
     ]
    }
   ],
   "source": [
    "# Query to view the structure of the Transactions table\n",
    "query = \"Select * from Transactions;\"\n",
    "\n",
    "# Execute the query to get table structure\n",
    "table_structure_transactions = db.run(query)\n",
    "\n",
    "# Display the table structure\n",
    "print(table_structure_transactions)"
   ]
  },
  {
   "cell_type": "code",
   "execution_count": 404,
   "id": "193f09e7",
   "metadata": {},
   "outputs": [
    {
     "name": "stdout",
     "output_type": "stream",
     "text": [
      "[(0, 'payment_id', 'INTEGER', 0, None, 1), (1, 'account_id', 'INTEGER', 0, None, 0), (2, 'payment_amount', 'REAL', 0, None, 0), (3, 'due_date', 'TEXT', 0, None, 0), (4, 'payment_status', 'TEXT', 0, None, 0)]\n"
     ]
    }
   ],
   "source": [
    "#PaymentsDue table info\n",
    "query=\"PRAGMA table_info(PaymentsDue);\"\n",
    "\n",
    "print(db.run(query))"
   ]
  },
  {
   "cell_type": "code",
   "execution_count": 405,
   "id": "0d579f4f",
   "metadata": {
    "scrolled": true
   },
   "outputs": [
    {
     "name": "stdout",
     "output_type": "stream",
     "text": [
      "[(1, 1, 300.0, '2025-02-20', 'Due'), (2, 1, 50.0, '2025-02-25', 'Paid'), (3, 2, 500.0, '2025-02-22', 'Late'), (4, 3, 150.0, '2025-02-23', 'Due'), (5, 4, 75.0, '2025-02-28', 'Due')]\n"
     ]
    }
   ],
   "source": [
    "# Query to view the structure of the PaymentsDue table\n",
    "query = \"Select * from PaymentsDue;\"\n",
    "\n",
    "# Execute the query to get table structure\n",
    "table_structure_paymentsdue = db.run(query)\n",
    "\n",
    "# Display the table structure\n",
    "print(table_structure_paymentsdue)"
   ]
  },
  {
   "cell_type": "markdown",
   "id": "6fa6b5f5",
   "metadata": {},
   "source": [
    "## Table & It's Column Descriptions"
   ]
  },
  {
   "cell_type": "code",
   "execution_count": 406,
   "id": "4ae82c80",
   "metadata": {},
   "outputs": [],
   "source": [
    "table_column_descriptions={\"Customers\":{\"customer_id\":\"Each Customer has different ids\",\n",
    "                                        \"first_name\":\"First name of the customer\",\n",
    "                                        \"last_name\":\"Last Name of the customer\",\n",
    "                                        \"email\":\"email address of the customer\",\n",
    "                                        \"phone_number\":\"phone number of the customer\"},\n",
    "                           \"Accounts\":{\"account_id\":\"Account id of different accounts. Each customer can has multiple accounts\",\n",
    "                                       \"customer_id\":\"Customer Id of the customer which has the account.\",\n",
    "                                       \"account_type\":\"The type of the account Savings, credit etc\",\n",
    "                                       \"balance\":\"balance amount in the account\"},\n",
    "                           \"Transactions\":{\"transaction_id\":\"Each transaction has different transaction ids. Each account can do multiple transactions\",\n",
    "                                           \"account_id\":\"Account ID of the account which made the transaction.\",\n",
    "                                           \"transaction_type\": \"The type of the transaction like payment, withdrawal, deposit etc\",\n",
    "                                           \"amount\":\"amount money of the transaction\",\n",
    "                                           \"transaction_date\":\"The date in which the transaction occured.\",\n",
    "                                           \"description\":\"The description of the transaction on how or for which the transaction's being done\"\n",
    "                                          },\n",
    "                            \"PaymentsDue\":{\"payment_id\":\"Every due payment has a payment id\",\n",
    "                                           \"account_id\":\"The account id of the customer which has the payment due\",\n",
    "                                           \"payment_amount\":\"The money amount that is due for payment\",\n",
    "                                           \"due_date\":\"The due date before which the customer has to make the payment\",\n",
    "                                           \"payment_status\":\"The status of the payment like due, paid, late etc\"\n",
    "                                          }\n",
    "                          }"
   ]
  },
  {
   "cell_type": "markdown",
   "id": "f0ecb060",
   "metadata": {},
   "source": [
    "## Extracting all Table, Column & Column's type."
   ]
  },
  {
   "cell_type": "code",
   "execution_count": 407,
   "id": "105ac55b",
   "metadata": {},
   "outputs": [],
   "source": [
    "# Function to get columns of a table\n",
    "def get_col_type_pair(table_name):\n",
    "    query = f\"PRAGMA table_info({table_name});\"\n",
    "    result = db.run(query)\n",
    "    result=ast.literal_eval(result)\n",
    "    \n",
    "    if isinstance(result, list) and len(result) > 0:\n",
    "        # Extract the second element (column name) from each tuple if it's valid\n",
    "        col_type_pair= [(row[1],row[2]) for row in result]\n",
    "        return col_type_pair\n",
    "    else:\n",
    "        return \"No columns found or result format is incorrect.\""
   ]
  },
  {
   "cell_type": "code",
   "execution_count": 408,
   "id": "8c3f090a",
   "metadata": {
    "scrolled": true
   },
   "outputs": [
    {
     "name": "stdout",
     "output_type": "stream",
     "text": [
      "[\"('name', '')\", \"('seq', '')\"]\n",
      "('sqlite_sequence', \"('name', ''),('seq', '')\")\n",
      "[\"('customer_id', 'INTEGER')\", \"('first_name', 'TEXT')\", \"('last_name', 'TEXT')\", \"('email', 'TEXT')\", \"('phone_number', 'TEXT')\", \"('address', 'TEXT')\"]\n",
      "('Customers', \"('customer_id', 'INTEGER'),('first_name', 'TEXT'),('last_name', 'TEXT'),('email', 'TEXT'),('phone_number', 'TEXT'),('address', 'TEXT')\")\n",
      "[\"('account_id', 'INTEGER')\", \"('customer_id', 'INTEGER')\", \"('account_type', 'TEXT')\", \"('balance', 'REAL')\"]\n",
      "('Accounts', \"('account_id', 'INTEGER'),('customer_id', 'INTEGER'),('account_type', 'TEXT'),('balance', 'REAL')\")\n",
      "[\"('transaction_id', 'INTEGER')\", \"('account_id', 'INTEGER')\", \"('transaction_type', 'TEXT')\", \"('amount', 'REAL')\", \"('transaction_date', 'TEXT')\", \"('description', 'TEXT')\"]\n",
      "('Transactions', \"('transaction_id', 'INTEGER'),('account_id', 'INTEGER'),('transaction_type', 'TEXT'),('amount', 'REAL'),('transaction_date', 'TEXT'),('description', 'TEXT')\")\n",
      "[\"('payment_id', 'INTEGER')\", \"('account_id', 'INTEGER')\", \"('payment_amount', 'REAL')\", \"('due_date', 'TEXT')\", \"('payment_status', 'TEXT')\"]\n",
      "('PaymentsDue', \"('payment_id', 'INTEGER'),('account_id', 'INTEGER'),('payment_amount', 'REAL'),('due_date', 'TEXT'),('payment_status', 'TEXT')\")\n",
      "[\"('InvoiceId', 'INTEGER')\", \"('AccountId', 'INTEGER')\", \"('InvoiceDate', 'TEXT')\", \"('DueDate', 'TEXT')\", \"('Total', 'REAL')\"]\n",
      "('Invoices', \"('InvoiceId', 'INTEGER'),('AccountId', 'INTEGER'),('InvoiceDate', 'TEXT'),('DueDate', 'TEXT'),('Total', 'REAL')\")\n"
     ]
    }
   ],
   "source": [
    "# Query to get all table names\n",
    "query = \"SELECT name FROM sqlite_master WHERE type='table';\"\n",
    "\n",
    "# Execute the query and fetch results\n",
    "table_names = db.run(query)\n",
    "\n",
    "#Changing the string output to it's literal form.\n",
    "table_names=ast.literal_eval(table_names)\n",
    "\n",
    "#list of table names.\n",
    "table_names=[item[0] for item in table_names]\n",
    "\n",
    "#table, column & type pair\n",
    "tab_col_list=[]\n",
    "for table_name in table_names:\n",
    "    col_type_pair=get_col_type_pair(table_name)\n",
    "    col_type_pair=[str(r) for r in col_type_pair]\n",
    "    print(col_type_pair)\n",
    "    tab_col=(table_name,','.join(col_type_pair))\n",
    "    print(tab_col)\n",
    "    tab_col_list.append(tab_col)"
   ]
  },
  {
   "cell_type": "markdown",
   "id": "e9b72c0d",
   "metadata": {},
   "source": [
    "## Chains & Tools"
   ]
  },
  {
   "cell_type": "markdown",
   "id": "fee3ff76",
   "metadata": {},
   "source": [
    " Table Selection: The tool will select the table name & relevant columns along with it's type which has the information required for the query."
   ]
  },
  {
   "cell_type": "code",
   "execution_count": 409,
   "id": "00c4b559",
   "metadata": {},
   "outputs": [],
   "source": [
    "#template used in PromptTemplate. It will give the relevant table & relevant column's info. one shot prompting.\n",
    "template=\"\"\"I will give you a query & you need to decide which table has the information. The table, (column name,column type) pair: {tab_col_list} Query={query} is provided. In the end give the table name & relevant column names as an output in a dictionary.\n",
    "Example: if a table customers has the information & it's relevant column is customer_id with type integer & total with type intezer. The output wold be:\n",
    "\"customers:[(customer_id,integer),(total,integer)]\"\n",
    "\"\"\"\n",
    "\n",
    "#prompt template takes table,column,column's type pair & user query as inputs.\n",
    "table_selection_template=PromptTemplate(\n",
    "    input_variables=[\"tab_col_list\",\"query\"],\n",
    "    template=template\n",
    ")\n",
    "\n",
    "table_selection_chain = LLMChain(prompt=table_selection_template, llm=llm_model)"
   ]
  },
  {
   "cell_type": "code",
   "execution_count": 410,
   "id": "e2626e05",
   "metadata": {},
   "outputs": [],
   "source": [
    "#function to be used in the table_selection_tool\n",
    "def table_selection(tab_col_list,query):\n",
    "    return table_selection_chain.run(tab_col_list=tab_col_list,query=query)\n",
    "\n",
    "table_selection_tool=Tool(\n",
    "        name=\"Table Selection\",\n",
    "        func=table_selection,\n",
    "        description=\"I will give you a query & you need to decide which table has the information. \"\n",
    "    )"
   ]
  },
  {
   "cell_type": "markdown",
   "id": "6607fc6d",
   "metadata": {},
   "source": [
    "Query Generation: The tool will generate query based on the table,column, column type pair, query and a snippet of table with two rows."
   ]
  },
  {
   "cell_type": "code",
   "execution_count": 411,
   "id": "fe544298",
   "metadata": {},
   "outputs": [],
   "source": [
    "#the template will give a sqllite sql query as an output.\n",
    "template=\"\"\"I will give you a question in English. You need to create an SQL Query for sqllite database based on the Question. Question: {query}, table_name, column names & it's types: {table_col_type} & {table_snippet} \n",
    "Example: give a customer's transaction history. transaction table name is given as input.\n",
    "```sql\n",
    "SQL_Query\n",
    "```\n",
    "**I will have to run the sql query directly so please don't give any assumption, conclusion. Take into account the type of the column as well.** Check 3 time before giving a query. Check for every possible error the query might face.\n",
    "\"\"\"\n",
    "\n",
    "#prompttemplate takes table,column, column type pair, query and a snippet of table as inputs.\n",
    "query_generation_prompt = PromptTemplate(\n",
    "    input_variables=[\"query\", \"table_col_type\",\"table_snippet\"],\n",
    "    template=template\n",
    ")\n",
    "\n",
    "query_generation_chain = LLMChain(prompt=query_generation_prompt, llm=llm_model)"
   ]
  },
  {
   "cell_type": "code",
   "execution_count": 412,
   "id": "b968e321",
   "metadata": {},
   "outputs": [],
   "source": [
    "#query generation tool & it's function\n",
    "def query_generation(query,table_col_type,table_snippet):\n",
    "    return query_generation_chain.run(query=query,table_col_type=table_col_type,table_snippet=table_snippet)\n",
    "\n",
    "query_generation_tool=Tool(\n",
    "        name=\"Query Generation\",\n",
    "        func=query_generation,\n",
    "        description=\"Query Generation\"\n",
    "    )"
   ]
  },
  {
   "cell_type": "markdown",
   "id": "658130a4",
   "metadata": {},
   "source": [
    "Final response: the response generated from the sql query has to be converted into natural language. For that, we are using the query, sql query & the response of the sql query & the informations of the table it's extracted from."
   ]
  },
  {
   "cell_type": "code",
   "execution_count": 413,
   "id": "874511d3",
   "metadata": {},
   "outputs": [],
   "source": [
    "template=\"\"\"I will give you a query{query} & it's answer{answer} which is extracted through sql query{sql_query} along with the table's info{table_info} from which it's extracted from & the descriptions of each column of the table{table_column_details}. You will have to answer the query in English.\n",
    "\n",
    "Tips:\n",
    "**Please take into account all the informations of all the tables. Also each column of each table has different functions.**\n",
    "Think thrice before giving an answer.\n",
    "\n",
    "Steps:\n",
    "1.Understand the query.\n",
    "2.Understand the SQL query: columns, tables used & how it's being used. \n",
    "3.Check the table information of each table: which columns being used in the sql query & what's the sql query asking for.\n",
    "4.Understand the response of the sql query which each value represent.\n",
    "\"\"\"\n",
    "\n",
    "#the prompt template will give the final response of the query in natural language\n",
    "final_response_template=PromptTemplate(\n",
    "    input_variables=[\"query\",\"answer\", \"table_info\",\"sql_query\",\"table_column_details\"],\n",
    "    template=template\n",
    ")\n",
    "\n",
    "final_response_chain = LLMChain(prompt=final_response_template, llm=llm_model)"
   ]
  },
  {
   "cell_type": "code",
   "execution_count": 414,
   "id": "4ea87dd1",
   "metadata": {},
   "outputs": [],
   "source": [
    "#final response tool & it's function\n",
    "def final_response(query,answer,table_info,sql_query,table_column_details):\n",
    "    return final_response_chain.run(query=query,answer=answer,table_info=table_info,sql_query=sql_query,table_column_details=table_column_details)\n",
    "\n",
    "final_response_tool=Tool(\n",
    "        name=\"Final Response\",\n",
    "        func=final_response,\n",
    "        description=\"Final Response\"\n",
    "    )"
   ]
  },
  {
   "cell_type": "markdown",
   "id": "ad611c6c",
   "metadata": {},
   "source": [
    "## Main function"
   ]
  },
  {
   "cell_type": "code",
   "execution_count": 415,
   "id": "1b196c1b",
   "metadata": {},
   "outputs": [],
   "source": [
    "def query_response(query,tab_col_list):\n",
    "    \n",
    "    #selecting table which has the information to answer the user query along with relevant column & column type\n",
    "    selected_table_result=table_selection_tool.func(tab_col_list,query)\n",
    "    \n",
    "    #postprocessing steps\n",
    "    selected_table_result=selected_table_result.split(\"```json\",1)[1]\n",
    "    selected_table_result=re.sub('`','',selected_table_result)\n",
    "    selected_table_result=re.sub('\\n','',selected_table_result)\n",
    "    selected_table_result=ast.literal_eval(selected_table_result)\n",
    "    \n",
    "    #All relevant table name & it's infos\n",
    "    selected_tables=list(selected_table_result.keys())\n",
    "    \n",
    "    #table snippets of two rows for each relevant table \n",
    "    table_snippets=\"\"\n",
    "    table_infos=\"\"\n",
    "    table_column_details=\"\"\n",
    "    for selected_table in selected_tables:\n",
    "        #selecting two rows\n",
    "        table_snippet_query = f\"Select * from {selected_table} LIMIT 2;\"\n",
    "    \n",
    "        # Execute the query to get table structure\n",
    "        table_snippet = db.run(table_snippet_query)\n",
    "        \n",
    "        #all relevant table & table snippets together\n",
    "        table_snippets=table_snippets+\"{\"+selected_table+\":\"+table_snippet+\"}\"\n",
    "        \n",
    "        #all relevant table & table informations together\n",
    "        table_info=db.run(f\"PRAGMA table_info({selected_table})\")\n",
    "        \n",
    "        table_infos=table_infos+\"{\"+selected_table+\":\"+table_info+\"}\"\n",
    "        \n",
    "        table_column_detail=table_column_descriptions[f\"{selected_table}\"]\n",
    "        \n",
    "        table_column_details=table_column_details+str(table_column_detail)\n",
    "    \n",
    "    #converting the selected_table_result into string to feed into the query_generation_tool\n",
    "    table_col_type=','.join([str((key,selected_table_result[key])) for key in selected_table_result.keys()])\n",
    "    \n",
    "    sql_query=query_generation_tool.func(query,table_col_type,table_snippets)\n",
    "    #postprocessing steps to get only the sql query to run \n",
    "    sql_query=sql_query.split('```sql',1)[1]\n",
    "    sql_query=re.sub('`','',sql_query)\n",
    "    \n",
    "    #getting the result of the sql query\n",
    "    result = db.run(sql_query)\n",
    "    result=ast.literal_eval(result)\n",
    "    \n",
    "    #final response in natural language\n",
    "    response=final_response_tool.func(query,result,table_infos,sql_query,table_column_details)\n",
    "    return response"
   ]
  },
  {
   "cell_type": "markdown",
   "id": "f0151fdc",
   "metadata": {},
   "source": [
    "## Results on different user queries"
   ]
  },
  {
   "cell_type": "code",
   "execution_count": 416,
   "id": "6d2e83c8",
   "metadata": {
    "scrolled": true
   },
   "outputs": [
    {
     "name": "stdout",
     "output_type": "stream",
     "text": [
      "The payment due dates for account 1 are February 20th, 2025 and February 25th, 2025.\n",
      "\n"
     ]
    }
   ],
   "source": [
    "query=\"What is the payment due date for account 1?\"\n",
    "response=query_response(query,tab_col_list)\n",
    "print(response)"
   ]
  },
  {
   "cell_type": "code",
   "execution_count": 417,
   "id": "d035babf",
   "metadata": {
    "scrolled": true
   },
   "outputs": [
    {
     "name": "stdout",
     "output_type": "stream",
     "text": [
      "On February 12th, 2025, account ID 1 made one transaction.  This was a payment of 200.0, described as \"Payment for utilities\".  The transaction ID is 2.\n",
      "\n"
     ]
    }
   ],
   "source": [
    "query=\"Give me account id 1 customer's transaction details in 12th February?\"\n",
    "response=query_response(query,tab_col_list)\n",
    "print(response)"
   ]
  },
  {
   "cell_type": "code",
   "execution_count": 418,
   "id": "be085684",
   "metadata": {
    "scrolled": true
   },
   "outputs": [
    {
     "name": "stdout",
     "output_type": "stream",
     "text": [
      "The query asks for all transaction details for customer with `customer_id = 1`.\n",
      "\n",
      "The SQL query joins three tables: `Customers`, `Accounts`, and `Transactions`.  It retrieves transaction information only for transactions associated with accounts belonging to the customer with `customer_id = 1`.\n",
      "\n",
      "The response:\n",
      "\n",
      "`[(1, 1, 'Deposit', 1500.0, '2025-02-10', 'Direct deposit from employer'), (2, 1, 'Payment', 200.0, '2025-02-12', 'Payment for utilities'), (3, 2, 'Withdrawal', 100.0, '2025-02-15', 'ATM Withdrawal')]`\n",
      "\n",
      "shows a list of transactions.  However, there's an error. The third tuple (3, 2, 'Withdrawal', 100.0, '2025-02-15', 'ATM Withdrawal')  is included even though it's associated with `account_id = 2`.  The query explicitly filters for `C.customer_id = 1`.  To be consistent with the query and the provided table schemas, this last tuple should *not* be included in the results because it belongs to a different customer.\n",
      "\n",
      "Therefore, the correct answer, reflecting the SQL query's intent, is:\n",
      "\n",
      "Customer with `customer_id = 1` has the following transactions:\n",
      "\n",
      "* **Transaction ID 1:** Deposit of 1500.0 on 2025-02-10. Description: Direct deposit from employer.\n",
      "* **Transaction ID 2:** Payment of 200.0 on 2025-02-12. Description: Payment for utilities.\n",
      "\n",
      "\n",
      "The `account_id` 2 in the original response indicates a problem either in the data or the execution of the SQL query.  The query is correctly written to only return transactions linked to `customer_id = 1`.\n",
      "\n"
     ]
    }
   ],
   "source": [
    "query=\"Give me customer id 1 customer's all transaction details?\"\n",
    "response=query_response(query,tab_col_list)\n",
    "print(response)"
   ]
  }
 ],
 "metadata": {
  "kernelspec": {
   "display_name": "Python 3 (ipykernel)",
   "language": "python",
   "name": "python3"
  },
  "language_info": {
   "codemirror_mode": {
    "name": "ipython",
    "version": 3
   },
   "file_extension": ".py",
   "mimetype": "text/x-python",
   "name": "python",
   "nbconvert_exporter": "python",
   "pygments_lexer": "ipython3",
   "version": "3.11.5"
  }
 },
 "nbformat": 4,
 "nbformat_minor": 5
}
